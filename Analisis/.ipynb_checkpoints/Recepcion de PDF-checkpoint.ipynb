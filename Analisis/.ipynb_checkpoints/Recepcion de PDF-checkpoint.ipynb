{
 "cells": [
  {
   "metadata": {},
   "cell_type": "markdown",
   "source": "# PROCESO DE ANALISIS DE DATOS",
   "id": "9063e27eb51e717c"
  },
  {
   "metadata": {},
   "cell_type": "markdown",
   "source": "## Importacion de Librerias",
   "id": "99a39c6104c98032"
  },
  {
   "metadata": {
    "ExecuteTime": {
     "end_time": "2024-05-03T00:02:11.014847Z",
     "start_time": "2024-05-03T00:02:11.011685Z"
    }
   },
   "cell_type": "code",
   "source": [
    "import time\n",
    "import os\n",
    "from tqdm import tqdm\n",
    "from pdf2image import convert_from_path"
   ],
   "id": "dd27af3405144dc9",
   "execution_count": 26,
   "outputs": []
  },
  {
   "metadata": {},
   "cell_type": "markdown",
   "source": "## Funcion para convertir pdf en imagen",
   "id": "888ecb8bcd702c11"
  },
  {
   "metadata": {
    "ExecuteTime": {
     "end_time": "2024-05-03T00:02:11.842697Z",
     "start_time": "2024-05-03T00:02:11.838844Z"
    }
   },
   "cell_type": "code",
   "source": [
    "def pdf_to_image(pdf_path, image_prefix):\n",
    "    try:\n",
    "        images = convert_from_path(pdf_path, dpi=300)\n",
    "        progress_bar = tqdm(total=len(images), desc=\"Convirtiendo páginas\")\n",
    "        for i, image in enumerate(images):\n",
    "            image_path = f\"{image_prefix}_page{i + 1}.jpg\"\n",
    "            image.save(image_path, 'JPEG')\n",
    "            progress_bar.update(1)\n",
    "        progress_bar.close()\n",
    "    except Exception as e:\n",
    "        print(f\"Error al convertir el archivo: {pdf_path}\")\n",
    "        print(f\"Mensaje de error: {str(e)}\")"
   ],
   "id": "27c519cf639c9e75",
   "execution_count": 27,
   "outputs": []
  },
  {
   "metadata": {
    "ExecuteTime": {
     "end_time": "2024-05-03T00:02:12.073996Z",
     "start_time": "2024-05-03T00:02:12.069483Z"
    }
   },
   "cell_type": "code",
   "source": [
    "def ejecutar_pdf_to_image(ruta_base_input, ruta_base_output):\n",
    "    for archivo in tqdm(os.listdir(ruta_base_input)):\n",
    "        if archivo.endswith('.pdf'):\n",
    "            nombre_archivo = os.path.splitext(archivo)[0]\n",
    "            carpeta_archivo = os.path.join(ruta_base_output, nombre_archivo) +'/'\n",
    "            os.makedirs(carpeta_archivo, exist_ok=True)\n",
    "            ruta_input = os.path.join(ruta_base_input, archivo)\n",
    "            pdf_to_image(ruta_input, carpeta_archivo)"
   ],
   "id": "b630fa86c719e366",
   "execution_count": 28,
   "outputs": []
  },
  {
   "metadata": {},
   "cell_type": "markdown",
   "source": "## Rutas de archivos",
   "id": "221fa4b68bef656d"
  },
  {
   "metadata": {
    "ExecuteTime": {
     "end_time": "2024-05-03T00:02:12.477116Z",
     "start_time": "2024-05-03T00:02:12.473260Z"
    }
   },
   "cell_type": "code",
   "source": [
    "import os\n",
    "\n",
    "ruta_pdf = \"../postulantes/pdf\"\n",
    "ruta_jpg = \"../postulantes/jpg/\"\n",
    "ruta_txt = \"../postulantes/txt/\"\n",
    "os.listdir(ruta_jpg)"
   ],
   "id": "313fe49c1db801e9",
   "execution_count": 29,
   "outputs": []
  },
  {
   "metadata": {
    "ExecuteTime": {
     "end_time": "2024-05-03T00:02:13.702077Z",
     "start_time": "2024-05-03T00:02:12.679376Z"
    }
   },
   "cell_type": "code",
   "source": "ejecutar_pdf_to_image(ruta_pdf, ruta_jpg)",
   "id": "5c71dc5a4fd9b01f",
   "execution_count": 30,
   "outputs": []
  },
  {
   "metadata": {},
   "cell_type": "markdown",
   "source": "# Convertir JPG en formato Texto",
   "id": "6b68644a5b93f99e"
  },
  {
   "metadata": {},
   "cell_type": "markdown",
   "source": "## Importacion de librerias",
   "id": "450138024d60f0a1"
  },
  {
   "metadata": {
    "ExecuteTime": {
     "end_time": "2024-05-03T00:02:13.706465Z",
     "start_time": "2024-05-03T00:02:13.703737Z"
    }
   },
   "cell_type": "code",
   "source": [
    "from PIL import Image\n",
    "from pytesseract import image_to_string"
   ],
   "id": "57430e3e02650b92",
   "execution_count": 31,
   "outputs": []
  },
  {
   "metadata": {
    "ExecuteTime": {
     "end_time": "2024-05-03T00:02:13.714455Z",
     "start_time": "2024-05-03T00:02:13.707810Z"
    }
   },
   "cell_type": "code",
   "source": [
    "def lectura_jpg_to_txt(ruta_jpg,ruta_txt,folder):\n",
    "    text = ''\n",
    "    if os.path.isdir(ruta_jpg):\n",
    "        print(f\"Archivos en la carpeta {folder}\")\n",
    "        for archivo in sorted(os.listdir(ruta_jpg)):\n",
    "            if archivo.endswith(\".jpg\"):\n",
    "                ruta_image = os.path.join(ruta_jpg,archivo)\n",
    "                # text = image_to_string(Image.open(ruta_image))\n",
    "                text += image_to_string(Image.open(ruta_image)) + '\\n'\n",
    "                \n",
    "    with open(ruta_txt, 'w') as file:\n",
    "        file.write(text)"
   ],
   "id": "72808c6b1b8029be",
   "execution_count": 32,
   "outputs": []
  },
  {
   "metadata": {
    "ExecuteTime": {
     "end_time": "2024-05-03T00:02:13.721697Z",
     "start_time": "2024-05-03T00:02:13.716060Z"
    }
   },
   "cell_type": "code",
   "source": [
    "def lectura_folder(ruta_jpg,ruta_txt):\n",
    "    for folder in os.listdir(ruta_jpg):\n",
    "        ruta_input_folder = os.path.join(ruta_jpg,folder) +'/'\n",
    "        output_file = os.path.join(ruta_txt,f'{folder}.txt')\n",
    "        \n",
    "        lectura_jpg_to_txt(ruta_input_folder,output_file,folder)"
   ],
   "id": "a49b040806176bdd",
   "execution_count": 33,
   "outputs": []
  },
  {
   "metadata": {
    "ExecuteTime": {
     "end_time": "2024-05-03T00:02:27.952959Z",
     "start_time": "2024-05-03T00:02:14.269002Z"
    }
   },
   "cell_type": "code",
   "source": "lectura_folder(ruta_jpg,ruta_txt)",
   "id": "80adc50694699ed2",
   "execution_count": 34,
   "outputs": []
  },
  {
   "metadata": {},
   "cell_type": "markdown",
   "source": "# Separacion en bloques del curriculum segun los encabezados",
   "id": "8b75de55033dc0da"
  },
  {
   "metadata": {},
   "cell_type": "markdown",
   "source": "## Importacion de librerias",
   "id": "2abc88e0dd1081c9"
  },
  {
   "metadata": {
    "ExecuteTime": {
     "end_time": "2024-05-03T00:02:27.958369Z",
     "start_time": "2024-05-03T00:02:27.955164Z"
    }
   },
   "cell_type": "code",
   "source": "import json",
   "id": "d3c10b50eba2af3b",
   "execution_count": 35,
   "outputs": []
  },
  {
   "metadata": {
    "ExecuteTime": {
     "end_time": "2024-05-03T00:02:27.966448Z",
     "start_time": "2024-05-03T00:02:27.959475Z"
    }
   },
   "cell_type": "code",
   "source": [
    "def leer_archivo(ruta_archivo):\n",
    "    with open(ruta_archivo,'r') as archivo:\n",
    "        contenido = archivo.read()\n",
    "    return contenido"
   ],
   "id": "5a8a01887ea8ae36",
   "execution_count": 36,
   "outputs": []
  },
  {
   "metadata": {
    "ExecuteTime": {
     "end_time": "2024-05-03T00:02:27.978265Z",
     "start_time": "2024-05-03T00:02:27.968303Z"
    }
   },
   "cell_type": "code",
   "source": [
    "def separar_bloques(texto):\n",
    "    informacion_personal = [\"Personal information\",\n",
    "                            \"Personal details\",\n",
    "                            \"Personal Profile\",\n",
    "                            \"Personal data\", \n",
    "                            \"Personal details\", \n",
    "                            \"Identity information\", \n",
    "                            \"Confidential information\", \n",
    "                            \"Private information\", \n",
    "                            \"Sensitive information\",\n",
    "                            \"Personal Dossier\",\n",
    "                            \"Resume\"]\n",
    "    \n",
    "    objetivos_profesionales = [\"Professional objectives\",\n",
    "                               \"Career aspirations\",\n",
    "                               \"Professional goal\",\n",
    "                               \"Occupational objectives\" \n",
    "                               \"Career goals\",\n",
    "                               \"Professional ambitions\",\n",
    "                               \"Professional summary\",\n",
    "                               \"Professional overview\",\n",
    "                               \"Work experience summary\",\n",
    "                               \"Career Objective\",\n",
    "                               \"Job target\",\"Goal\"]\n",
    "    experiencia_laboral = [\"Work experience\", \n",
    "                           \"Laboral experience\",\n",
    "                           \"Professional background\",\n",
    "                           \"Career history\",\n",
    "                           \"Professional experience\",\n",
    "                           \"Professional Trainings\",\n",
    "                           \"Job experience\",\n",
    "                           \"Employment record\",\n",
    "                           \"Employment history\",\n",
    "                           \"Working Experience\",\n",
    "                           \"Projects\",\n",
    "                           \"Experience\"]\n",
    "    education = [\"Education\",\n",
    "                 \"Academic and Professional\",\n",
    "                 \"academics\",\"ACADEMICS\",\n",
    "                 \"Academic background\",\n",
    "                 \"Educational history\", \n",
    "                 \"Academic record\", \n",
    "                 \"Scholarly background\",\n",
    "                 \"Educational qualifications\",\n",
    "                 \"Educational credentials\", \n",
    "                 \"Academic qualifications\", \n",
    "                 \"Educational achievements\",\n",
    "                 \"Academic Qualification\",\n",
    "                 \"Educational Background\",\n",
    "                 \"Academic degree\",\n",
    "                 \"Educational degree\", \n",
    "                 \"Qualification\",\n",
    "                \"academic details\",\n",
    "                 \"Educational details\",\n",
    "                 \"Scholastics\",\n",
    "                 \"Academic information\", \n",
    "                 \"Schooling particulars\"]\n",
    "    habilidades = [\"Technical and personal skills\",\n",
    "                   \"Technical and personal competencies\",\n",
    "                   \"Technical Skills\",\n",
    "                   \"Technical and personal expertise\",\n",
    "                   \"Abilities\", \n",
    "                   \"Competencies\",\n",
    "                   \"Personality Traits\",\n",
    "                   \"Software Skill\",\n",
    "                   \"Technical Proficiency\",\n",
    "                  \"Skills\"]\n",
    "    logros_premios = [\"Achievements and awards\", \n",
    "                      \"Accomplishments and honors\", \n",
    "                      \"Recognition and accolades\"]\n",
    "    \n",
    "    actividades_extracurriculares = [\"Extracurricular activities\", \n",
    "                                     \"Extra Curricular Activities\",\n",
    "                                     \"Additional activities\",\n",
    "                                     \"Extra Curricular Activitis\",\n",
    "                                     \"Extra Co-Curricutar Activities\",\n",
    "                                     \"Non-academic involvement\"]\n",
    "    referencias = [\"References\", \n",
    "                   \"Referees\", \n",
    "                   \"Recommendations\",\n",
    "                   \"Other Information\"]\n",
    "    cv_titulos = [informacion_personal,objetivos_profesionales,experiencia_laboral,\n",
    "                  education,habilidades,logros_premios,actividades_extracurriculares,referencias]\n",
    "    cv_titulos_dict = {\n",
    "    'informacion_personal': informacion_personal,\n",
    "    'objetivos_profesionales': objetivos_profesionales,\n",
    "    'experiencia_laboral': experiencia_laboral,\n",
    "    'education':education,\n",
    "    'habilidades':habilidades,\n",
    "    'logros_premios':logros_premios,\n",
    "    'actividades_extracurriculares':actividades_extracurriculares,\n",
    "    'referencias'   :referencias\n",
    "    }\n",
    "    cadenas_cv = []\n",
    "    cadenas_pos = []\n",
    "    cadenas_name = []\n",
    "    for cv_titulos in cv_titulos_dict.keys():\n",
    "        for find in cv_titulos_dict[cv_titulos]:\n",
    "            numero = texto.count(find.lower())\n",
    "            if(numero!=0):\n",
    "                pass\n",
    "            if numero!=0 and numero <2:\n",
    "                pos_texto = texto.find(find.lower())\n",
    "                if pos_texto != -1:\n",
    "                    cadenas_cv.append(find.lower())\n",
    "                    cadenas_pos.append(pos_texto)\n",
    "                    cadenas_name.append(cv_titulos)\n",
    "                    break\n",
    "    diccionario = {\n",
    "        'cadenas_name': cadenas_name,\n",
    "        'cadenas_cv': cadenas_cv,\n",
    "        'cadenas_pos': cadenas_pos,\n",
    "    }\n",
    "    \n",
    "    json_data = {}\n",
    "\n",
    "    diccionario_ordenado = dict(sorted(zip( diccionario['cadenas_name'],diccionario['cadenas_pos']),key=lambda x: x[1]))\n",
    "    name_bloque = 'Introduccion'\n",
    "    posicion_inicial_text = 0\n",
    "    count = 0\n",
    "    for key, value  in list(diccionario_ordenado.items()):        \n",
    "        json_data[name_bloque] = texto[posicion_inicial_text:value]    \n",
    "        name_bloque = key\n",
    "        posicion_inicial_text = value\n",
    "        count +=1\n",
    "    json_data[name_bloque] = texto[posicion_inicial_text:len(texto)]\n",
    "    \n",
    "    return json.dumps(json_data)"
   ],
   "id": "b38114f2cc80ba82",
   "execution_count": 37,
   "outputs": []
  },
  {
   "metadata": {
    "ExecuteTime": {
     "end_time": "2024-05-03T00:02:27.986456Z",
     "start_time": "2024-05-03T00:02:27.979146Z"
    }
   },
   "cell_type": "code",
   "source": [
    "def convert_doc_to_json(link_doc):\n",
    "    texto = leer_archivo(link_doc).lower()\n",
    "    json_str = separar_bloques(texto)\n",
    "    \n",
    "    json_data = json.loads(json_str)\n",
    "    return json_data\n",
    "    \n"
   ],
   "id": "cb48c23bab3662af",
   "execution_count": 38,
   "outputs": []
  },
  {
   "metadata": {
    "ExecuteTime": {
     "end_time": "2024-05-03T00:02:27.989231Z",
     "start_time": "2024-05-03T00:02:27.987496Z"
    }
   },
   "cell_type": "code",
   "source": "",
   "id": "c50e777a296356e4",
   "execution_count": 38,
   "outputs": []
  },
  {
   "metadata": {},
   "cell_type": "markdown",
   "source": "# Tratamiento de json por documento",
   "id": "453f92ce714917e7"
  },
  {
   "metadata": {
    "ExecuteTime": {
     "end_time": "2024-05-03T00:07:02.845595Z",
     "start_time": "2024-05-03T00:07:01.480186Z"
    }
   },
   "cell_type": "code",
   "source": [
    "!pip install nltk\n",
    "import nltk\n",
    "from nltk.corpus import stopwords\n",
    "from nltk.tokenize import word_tokenize"
   ],
   "id": "43ff30063cd8e63e",
   "execution_count": 41,
   "outputs": []
  },
  {
   "metadata": {
    "ExecuteTime": {
     "end_time": "2024-05-02T23:59:16.467733Z",
     "start_time": "2024-05-02T23:59:16.464054Z"
    }
   },
   "cell_type": "code",
   "source": [
    "def tokenizacion_texto(texto):\n",
    "    stop_words = stopwords.words('english')\n",
    "    texto = texto.lower()\n",
    "    tokens = word_tokenize(texto)\n",
    "    text_filtrado = [word for word in tokens if not word in stop_words]\n",
    "    return text_filtrado"
   ],
   "id": "f543e7a62677a5d7",
   "execution_count": 17,
   "outputs": []
  },
  {
   "metadata": {
    "ExecuteTime": {
     "end_time": "2024-05-02T23:59:16.818568Z",
     "start_time": "2024-05-02T23:59:16.815826Z"
    }
   },
   "cell_type": "code",
   "source": [
    "def json_doc_postulante(json_postulante):\n",
    "    json_postulante_habilidades = json_postulante['habilidades']\n",
    "    json_postulante_experiencia = json_postulante['experiencia_laboral']\n",
    "    tokenizado_habilidades = tokenizacion_texto(json_postulante_habilidades)\n",
    "    tokenizado_expeciencia = tokenizacion_texto(json_postulante_experiencia)\n",
    "    print(tokenizado_habilidades)"
   ],
   "id": "f7d92609c5a6e997",
   "execution_count": 18,
   "outputs": []
  },
  {
   "metadata": {
    "ExecuteTime": {
     "end_time": "2024-05-02T23:59:28.866175Z",
     "start_time": "2024-05-02T23:59:28.863853Z"
    }
   },
   "cell_type": "code",
   "source": "",
   "id": "abe06a91e1217384",
   "execution_count": 18,
   "outputs": []
  },
  {
   "metadata": {},
   "cell_type": "markdown",
   "source": "# Asignacion de Puntaje",
   "id": "b6145878c2ffad6a"
  },
  {
   "metadata": {
    "ExecuteTime": {
     "end_time": "2024-05-02T01:41:16.603763Z",
     "start_time": "2024-05-02T01:41:16.597311Z"
    }
   },
   "cell_type": "code",
   "source": "",
   "id": "8152a406b400cd8",
   "execution_count": 65,
   "outputs": []
  },
  {
   "metadata": {
    "ExecuteTime": {
     "end_time": "2024-05-02T01:41:16.812231Z",
     "start_time": "2024-05-02T01:41:16.806168Z"
    }
   },
   "cell_type": "code",
   "source": "",
   "id": "d8367d36faacfff7",
   "execution_count": 65,
   "outputs": []
  },
  {
   "metadata": {
    "ExecuteTime": {
     "end_time": "2024-05-02T01:41:16.919312Z",
     "start_time": "2024-05-02T01:41:16.912052Z"
    }
   },
   "cell_type": "code",
   "source": "",
   "id": "d52fcb88bd08c01c",
   "execution_count": 65,
   "outputs": []
  },
  {
   "metadata": {},
   "cell_type": "markdown",
   "source": "# Graficas de rendimiento",
   "id": "ed42f0bbac1e281b"
  },
  {
   "metadata": {},
   "cell_type": "markdown",
   "source": "# Resultados",
   "id": "fd3b118a2229f46f"
  },
  {
   "metadata": {},
   "cell_type": "markdown",
   "source": "# Ejecucion",
   "id": "e382560cc7e630ee"
  },
  {
   "metadata": {
    "ExecuteTime": {
     "end_time": "2024-05-02T23:59:35.132840Z",
     "start_time": "2024-05-02T23:59:35.128386Z"
    }
   },
   "cell_type": "code",
   "source": [
    "def procesar_archivos(ruta_txt):\n",
    "    archivos = os.listdir(ruta_txt)\n",
    "    for archivo in archivos:\n",
    "        ruta_archivo = os.path.join(ruta_txt, archivo)\n",
    "        try:            \n",
    "            json_postulante = convert_doc_to_json(ruta_archivo)\n",
    "            json_doc_postulante(json_postulante)            \n",
    "        except Exception as e:\n",
    "            print(\"Error al insertar datos:\", e)"
   ],
   "id": "d9b94fe5d7325c79",
   "execution_count": 19,
   "outputs": []
  },
  {
   "metadata": {
    "ExecuteTime": {
     "end_time": "2024-05-02T23:59:35.704603Z",
     "start_time": "2024-05-02T23:59:35.699994Z"
    }
   },
   "cell_type": "code",
   "source": "procesar_archivos(ruta_txt)",
   "id": "6c52ecda7e6e2b47",
   "execution_count": 20,
   "outputs": []
  },
  {
   "metadata": {
    "ExecuteTime": {
     "end_time": "2024-05-02T01:31:04.227109Z",
     "start_time": "2024-05-02T01:31:04.220082Z"
    }
   },
   "cell_type": "code",
   "source": "",
   "id": "637be834dafac61d",
   "execution_count": 47,
   "outputs": []
  },
  {
   "metadata": {
    "ExecuteTime": {
     "end_time": "2024-05-02T01:27:46.078217Z",
     "start_time": "2024-05-02T01:27:46.071922Z"
    }
   },
   "cell_type": "code",
   "source": "",
   "id": "61e1f01bd8a84655",
   "execution_count": 18,
   "outputs": []
  },
  {
   "metadata": {
    "ExecuteTime": {
     "end_time": "2024-04-30T11:48:54.605001Z",
     "start_time": "2024-04-30T11:48:54.603283Z"
    }
   },
   "cell_type": "code",
   "source": "",
   "id": "4c150a6411f5557a",
   "execution_count": 15,
   "outputs": []
  },
  {
   "metadata": {
    "ExecuteTime": {
     "end_time": "2024-04-30T11:48:54.607748Z",
     "start_time": "2024-04-30T11:48:54.605940Z"
    }
   },
   "cell_type": "code",
   "source": "",
   "id": "d2ca2b910df6f923",
   "execution_count": 15,
   "outputs": []
  },
  {
   "metadata": {
    "ExecuteTime": {
     "end_time": "2024-04-30T11:48:54.610446Z",
     "start_time": "2024-04-30T11:48:54.608718Z"
    }
   },
   "cell_type": "code",
   "source": "",
   "id": "b57ba5623723a8f",
   "execution_count": 15,
   "outputs": []
  },
  {
   "metadata": {
    "ExecuteTime": {
     "end_time": "2024-04-30T11:48:54.613617Z",
     "start_time": "2024-04-30T11:48:54.611700Z"
    }
   },
   "cell_type": "code",
   "source": "",
   "id": "e8aa6255e81c3306",
   "execution_count": 15,
   "outputs": []
  },
  {
   "metadata": {
    "ExecuteTime": {
     "end_time": "2024-04-30T11:48:54.616274Z",
     "start_time": "2024-04-30T11:48:54.614605Z"
    }
   },
   "cell_type": "code",
   "source": "",
   "id": "b1efffdef192a4dd",
   "execution_count": 15,
   "outputs": []
  },
  {
   "metadata": {
    "ExecuteTime": {
     "end_time": "2024-04-30T11:48:54.618879Z",
     "start_time": "2024-04-30T11:48:54.617220Z"
    }
   },
   "cell_type": "code",
   "source": "",
   "id": "209cc7499daf3508",
   "execution_count": 15,
   "outputs": []
  },
  {
   "metadata": {
    "ExecuteTime": {
     "end_time": "2024-04-30T11:48:54.621562Z",
     "start_time": "2024-04-30T11:48:54.619869Z"
    }
   },
   "cell_type": "code",
   "source": "",
   "id": "1c39589e8aa042f8",
   "execution_count": 15,
   "outputs": []
  },
  {
   "metadata": {
    "ExecuteTime": {
     "end_time": "2024-04-30T11:48:54.625721Z",
     "start_time": "2024-04-30T11:48:54.623279Z"
    }
   },
   "cell_type": "code",
   "source": "",
   "id": "70e1edf0f55808b",
   "execution_count": 15,
   "outputs": []
  },
  {
   "metadata": {
    "ExecuteTime": {
     "end_time": "2024-04-30T11:48:54.628926Z",
     "start_time": "2024-04-30T11:48:54.626801Z"
    }
   },
   "cell_type": "code",
   "source": "",
   "id": "11f5dc9a38549840",
   "execution_count": 15,
   "outputs": []
  },
  {
   "metadata": {},
   "cell_type": "code",
   "execution_count": null,
   "source": "",
   "id": "5227bd3b72251460",
   "outputs": []
  }
 ],
 "metadata": {
  "kernelspec": {
   "display_name": "Python 3",
   "language": "python",
   "name": "python3"
  },
  "language_info": {
   "codemirror_mode": {
    "name": "ipython",
    "version": 2
   },
   "file_extension": ".py",
   "mimetype": "text/x-python",
   "name": "python",
   "nbconvert_exporter": "python",
   "pygments_lexer": "ipython2",
   "version": "2.7.6"
  }
 },
 "nbformat": 4,
 "nbformat_minor": 5
}
