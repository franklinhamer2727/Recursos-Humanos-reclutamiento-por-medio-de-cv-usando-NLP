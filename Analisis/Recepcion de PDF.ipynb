{
 "cells": [
  {
   "metadata": {},
   "cell_type": "markdown",
   "source": "# PROCESO DE ANALISIS DE DATOS",
   "id": "9063e27eb51e717c"
  },
  {
   "metadata": {},
   "cell_type": "markdown",
   "source": "## Importacion de Librerias",
   "id": "99a39c6104c98032"
  },
  {
   "metadata": {
    "ExecuteTime": {
     "end_time": "2024-04-30T11:54:19.326455Z",
     "start_time": "2024-04-30T11:54:19.323485Z"
    }
   },
   "cell_type": "code",
   "source": [
    "import time\n",
    "import os\n",
    "from tqdm import tqdm\n",
    "from pdf2image import convert_from_path"
   ],
   "id": "dd27af3405144dc9",
   "outputs": [],
   "execution_count": 23
  },
  {
   "metadata": {},
   "cell_type": "markdown",
   "source": "## Funcion para convertir pdf en imagen",
   "id": "888ecb8bcd702c11"
  },
  {
   "metadata": {
    "ExecuteTime": {
     "end_time": "2024-04-30T11:54:19.851913Z",
     "start_time": "2024-04-30T11:54:19.847215Z"
    }
   },
   "cell_type": "code",
   "source": [
    "def pdf_to_image(pdf_path, image_prefix):\n",
    "    try:\n",
    "        images = convert_from_path(pdf_path, dpi=300)\n",
    "        progress_bar = tqdm(total=len(images), desc=\"Convirtiendo páginas\")\n",
    "        for i, image in enumerate(images):\n",
    "            image_path = f\"{image_prefix}_page{i + 1}.jpg\"\n",
    "            image.save(image_path, 'JPEG')\n",
    "            progress_bar.update(1)\n",
    "        progress_bar.close()\n",
    "    except Exception as e:\n",
    "        print(f\"Error al convertir el archivo: {pdf_path}\")\n",
    "        print(f\"Mensaje de error: {str(e)}\")"
   ],
   "id": "27c519cf639c9e75",
   "outputs": [],
   "execution_count": 24
  },
  {
   "metadata": {
    "ExecuteTime": {
     "end_time": "2024-04-30T11:54:19.901311Z",
     "start_time": "2024-04-30T11:54:19.897401Z"
    }
   },
   "cell_type": "code",
   "source": [
    "def ejecutar_pdf_to_image(ruta_base_input, ruta_base_output):\n",
    "    for archivo in tqdm(os.listdir(ruta_base_input)):\n",
    "        if archivo.endswith('.pdf'):\n",
    "            nombre_archivo = os.path.splitext(archivo)[0]\n",
    "            carpeta_archivo = os.path.join(ruta_base_output, nombre_archivo) +'/'\n",
    "            os.makedirs(carpeta_archivo, exist_ok=True)\n",
    "            ruta_input = os.path.join(ruta_base_input, archivo)\n",
    "            pdf_to_image(ruta_input, carpeta_archivo)"
   ],
   "id": "b630fa86c719e366",
   "outputs": [],
   "execution_count": 25
  },
  {
   "metadata": {},
   "cell_type": "markdown",
   "source": "## Rutas de archivos",
   "id": "221fa4b68bef656d"
  },
  {
   "metadata": {
    "ExecuteTime": {
     "end_time": "2024-04-30T11:54:19.964091Z",
     "start_time": "2024-04-30T11:54:19.960669Z"
    }
   },
   "cell_type": "code",
   "source": [
    "import os\n",
    "ruta_pdf = \"../postulantes/pdf\"\n",
    "ruta_jpg = \"../postulantes/jpg\"\n",
    "ruta_txt = \"../postulantes/txt/\""
   ],
   "id": "313fe49c1db801e9",
   "outputs": [],
   "execution_count": 26
  },
  {
   "metadata": {
    "ExecuteTime": {
     "end_time": "2024-04-30T11:54:21.050338Z",
     "start_time": "2024-04-30T11:54:20.009321Z"
    }
   },
   "cell_type": "code",
   "source": "ejecutar_pdf_to_image(ruta_pdf, ruta_jpg)",
   "id": "5c71dc5a4fd9b01f",
   "outputs": [
    {
     "name": "stderr",
     "output_type": "stream",
     "text": [
      "  0%|          | 0/3 [00:00<?, ?it/s]\n",
      "Convirtiendo páginas:   0%|          | 0/4 [00:00<?, ?it/s]\u001B[A\n",
      "Convirtiendo páginas: 100%|██████████| 4/4 [00:00<00:00, 23.09it/s]\u001B[A\n",
      " 33%|███▎      | 1/3 [00:00<00:00,  2.19it/s]\n",
      "Convirtiendo páginas: 100%|██████████| 2/2 [00:00<00:00, 27.24it/s]\n",
      " 67%|██████▋   | 2/3 [00:00<00:00,  2.96it/s]\n",
      "Convirtiendo páginas:   0%|          | 0/3 [00:00<?, ?it/s]\u001B[A\n",
      "Convirtiendo páginas: 100%|██████████| 3/3 [00:00<00:00, 26.45it/s]\u001B[A\n",
      "100%|██████████| 3/3 [00:01<00:00,  2.90it/s]\n"
     ]
    }
   ],
   "execution_count": 27
  },
  {
   "metadata": {},
   "cell_type": "markdown",
   "source": "# Convertir JPG en formato Texto",
   "id": "6b68644a5b93f99e"
  },
  {
   "metadata": {},
   "cell_type": "markdown",
   "source": "## Importacion de librerias",
   "id": "450138024d60f0a1"
  },
  {
   "metadata": {
    "ExecuteTime": {
     "end_time": "2024-04-30T11:54:21.054789Z",
     "start_time": "2024-04-30T11:54:21.052017Z"
    }
   },
   "cell_type": "code",
   "source": [
    "from PIL import Image\n",
    "from pytesseract import image_to_string"
   ],
   "id": "57430e3e02650b92",
   "outputs": [],
   "execution_count": 28
  },
  {
   "metadata": {
    "ExecuteTime": {
     "end_time": "2024-04-30T11:54:21.062421Z",
     "start_time": "2024-04-30T11:54:21.055737Z"
    }
   },
   "cell_type": "code",
   "source": [
    "def lectura_jpg_to_txt(ruta_jpg,ruta_txt,folder):\n",
    "    text = ''\n",
    "    if os.path.isdir(ruta_jpg):\n",
    "        print(f\"Archivos en la carpeta {folder}\")\n",
    "        for archivo in sorted(os.listdir(ruta_jpg)):\n",
    "            if archivo.endswith(\".jpg\"):\n",
    "                ruta_image = os.path.join(ruta_jpg,archivo)\n",
    "                # text = image_to_string(Image.open(ruta_image))\n",
    "                text += image_to_string(Image.open(ruta_image)) + '\\n'\n",
    "                \n",
    "    with open(ruta_txt, 'w') as file:\n",
    "        file.write(text)"
   ],
   "id": "72808c6b1b8029be",
   "outputs": [],
   "execution_count": 29
  },
  {
   "metadata": {
    "ExecuteTime": {
     "end_time": "2024-04-30T11:54:21.069398Z",
     "start_time": "2024-04-30T11:54:21.064173Z"
    }
   },
   "cell_type": "code",
   "source": [
    "def lectura_folder(ruta_jpg,ruta_txt):\n",
    "    for folder in os.listdir(ruta_jpg):\n",
    "        ruta_input_folder = os.path.join(ruta_jpg,folder) +'/'\n",
    "        output_file = os.path.join(ruta_txt,f'{folder}.txt')\n",
    "        \n",
    "        lectura_jpg_to_txt(ruta_input_folder,output_file,folder)"
   ],
   "id": "a49b040806176bdd",
   "outputs": [],
   "execution_count": 30
  },
  {
   "metadata": {
    "ExecuteTime": {
     "end_time": "2024-04-30T11:54:34.673602Z",
     "start_time": "2024-04-30T11:54:21.070308Z"
    }
   },
   "cell_type": "code",
   "source": "lectura_folder(ruta_jpg,ruta_txt)",
   "id": "80adc50694699ed2",
   "outputs": [
    {
     "name": "stdout",
     "output_type": "stream",
     "text": [
      "Archivos en la carpeta postulante1\n",
      "Archivos en la carpeta postulante2\n",
      "Archivos en la carpeta postulante3\n"
     ]
    }
   ],
   "execution_count": 31
  },
  {
   "metadata": {},
   "cell_type": "markdown",
   "source": "# Separacion en bloques del curriculum segun los encabezados",
   "id": "8b75de55033dc0da"
  },
  {
   "metadata": {},
   "cell_type": "markdown",
   "source": "## Importacion de librerias",
   "id": "2abc88e0dd1081c9"
  },
  {
   "metadata": {
    "ExecuteTime": {
     "end_time": "2024-04-30T11:54:34.677882Z",
     "start_time": "2024-04-30T11:54:34.675179Z"
    }
   },
   "cell_type": "code",
   "source": "import json",
   "id": "d3c10b50eba2af3b",
   "outputs": [],
   "execution_count": 32
  },
  {
   "metadata": {
    "ExecuteTime": {
     "end_time": "2024-04-30T11:54:34.685914Z",
     "start_time": "2024-04-30T11:54:34.679382Z"
    }
   },
   "cell_type": "code",
   "source": [
    "def leer_archivo(ruta_archivo):\n",
    "    with open(ruta_archivo,'r') as archivo:\n",
    "        contenido = archivo.read()\n",
    "    return contenido"
   ],
   "id": "5a8a01887ea8ae36",
   "outputs": [],
   "execution_count": 33
  },
  {
   "metadata": {
    "ExecuteTime": {
     "end_time": "2024-04-30T12:02:08.312586Z",
     "start_time": "2024-04-30T12:02:08.303337Z"
    }
   },
   "cell_type": "code",
   "source": [
    "def separar_bloques(texto):\n",
    "    informacion_personal = [\"Personal information\",\n",
    "                            \"Personal details\",\n",
    "                            \"Personal Profile\",\n",
    "                            \"Personal data\", \n",
    "                            \"Personal details\", \n",
    "                            \"Identity information\", \n",
    "                            \"Confidential information\", \n",
    "                            \"Private information\", \n",
    "                            \"Sensitive information\",\n",
    "                            \"Personal Dossier\",\n",
    "                            \"Resume\"]\n",
    "    \n",
    "    objetivos_profesionales = [\"Professional objectives\",\n",
    "                               \"Career aspirations\",\n",
    "                               \"Professional goal\",\n",
    "                               \"Occupational objectives\" \n",
    "                               \"Career goals\",\n",
    "                               \"Professional ambitions\",\n",
    "                               \"Professional summary\",\n",
    "                               \"Professional overview\",\n",
    "                               \"Work experience summary\",\n",
    "                               \"Career Objective\",\n",
    "                               \"Job target\",\"Goal\"]\n",
    "    experiencia_laboral = [\"Work experience\", \n",
    "                           \"Laboral experience\",\n",
    "                           \"Professional background\",\n",
    "                           \"Career history\",\n",
    "                           \"Professional experience\",\n",
    "                           \"Professional Trainings\",\n",
    "                           \"Job experience\",\n",
    "                           \"Employment record\",\n",
    "                           \"Employment history\",\n",
    "                           \"Working Experience\",\n",
    "                           \"Projects\",\n",
    "                           \"Experience\"]\n",
    "    education = [\"Education\",\n",
    "                 \"Academic and Professional\",\n",
    "                 \"academics\",\"ACADEMICS\",\n",
    "                 \"Academic background\",\n",
    "                 \"Educational history\", \n",
    "                 \"Academic record\", \n",
    "                 \"Scholarly background\",\n",
    "                 \"Educational qualifications\",\n",
    "                 \"Educational credentials\", \n",
    "                 \"Academic qualifications\", \n",
    "                 \"Educational achievements\",\n",
    "                 \"Academic Qualification\",\n",
    "                 \"Educational Background\",\n",
    "                 \"Academic degree\",\n",
    "                 \"Educational degree\", \n",
    "                 \"Qualification\",\n",
    "                \"academic details\",\n",
    "                 \"Educational details\",\n",
    "                 \"Scholastics\",\n",
    "                 \"Academic information\", \n",
    "                 \"Schooling particulars\"]\n",
    "    habilidades = [\"Technical and personal skills\",\n",
    "                   \"Technical and personal competencies\",\n",
    "                   \"Technical Skills\",\n",
    "                   \"Technical and personal expertise\",\n",
    "                   \"Abilities\", \n",
    "                   \"Competencies\",\n",
    "                   \"Personality Traits\",\n",
    "                   \"Software Skill\",\n",
    "                   \"Technical Proficiency\",\n",
    "                  \"Skills\"]\n",
    "    logros_premios = [\"Achievements and awards\", \n",
    "                      \"Accomplishments and honors\", \n",
    "                      \"Recognition and accolades\"]\n",
    "    \n",
    "    actividades_extracurriculares = [\"Extracurricular activities\", \n",
    "                                     \"Extra Curricular Activities\",\n",
    "                                     \"Additional activities\",\n",
    "                                     \"Extra Curricular Activitis\",\n",
    "                                     \"Extra Co-Curricutar Activities\",\n",
    "                                     \"Non-academic involvement\"]\n",
    "    referencias = [\"References\", \n",
    "                   \"Referees\", \n",
    "                   \"Recommendations\",\n",
    "                   \"Other Information\"]\n",
    "    cv_titulos = [informacion_personal,objetivos_profesionales,experiencia_laboral,\n",
    "                  education,habilidades,logros_premios,actividades_extracurriculares,referencias]\n",
    "    cv_titulos_dict = {\n",
    "    'informacion_personal': informacion_personal,\n",
    "    'objetivos_profesionales': objetivos_profesionales,\n",
    "    'experiencia_laboral': experiencia_laboral,\n",
    "    'education':education,\n",
    "    'habilidades':habilidades,\n",
    "    'logros_premios':logros_premios,\n",
    "    'actividades_extracurriculares':actividades_extracurriculares,\n",
    "    'referencias'   :referencias\n",
    "    }\n",
    "    cadenas_cv = []\n",
    "    cadenas_pos = []\n",
    "    cadenas_name = []\n",
    "    for cv_titulos in cv_titulos_dict.keys():\n",
    "        for find in cv_titulos_dict[cv_titulos]:\n",
    "            numero = texto.count(find.lower())\n",
    "            if(numero!=0):\n",
    "                pass\n",
    "            if numero!=0 and numero <2:\n",
    "                pos_texto = texto.find(find.lower())\n",
    "                if pos_texto != -1:\n",
    "                    cadenas_cv.append(find.lower())\n",
    "                    cadenas_pos.append(pos_texto)\n",
    "                    cadenas_name.append(cv_titulos)\n",
    "                    break\n",
    "    diccionario = {\n",
    "        'cadenas_name': cadenas_name,\n",
    "        'cadenas_cv': cadenas_cv,\n",
    "        'cadenas_pos': cadenas_pos,\n",
    "    }\n",
    "    \n",
    "    json_data = {}\n",
    "\n",
    "    diccionario_ordenado = dict(sorted(zip( diccionario['cadenas_name'],diccionario['cadenas_pos']),key=lambda x: x[1]))\n",
    "    name_bloque = 'Introduccion'\n",
    "    posicion_inicial_text = 0\n",
    "    count = 0\n",
    "    for key, value  in list(diccionario_ordenado.items()):        \n",
    "        json_data[name_bloque] = texto[posicion_inicial_text:value]    \n",
    "        name_bloque = key\n",
    "        posicion_inicial_text = value\n",
    "        count +=1\n",
    "    json_data[name_bloque] = texto[posicion_inicial_text:len(texto)]\n",
    "    \n",
    "    return json.dumps(json_data)"
   ],
   "id": "b38114f2cc80ba82",
   "outputs": [],
   "execution_count": 53
  },
  {
   "metadata": {
    "ExecuteTime": {
     "end_time": "2024-04-30T12:03:22.169330Z",
     "start_time": "2024-04-30T12:03:22.165474Z"
    }
   },
   "cell_type": "code",
   "source": [
    "def convert_doc_to_json(link_doc):\n",
    "    texto = leer_archivo(link_doc).lower()\n",
    "    json_str = separar_bloques(texto)\n",
    "    \n",
    "    json_data = json.loads(json_str)\n",
    "    print(json_data.keys())\n",
    "    \n"
   ],
   "id": "cb48c23bab3662af",
   "outputs": [],
   "execution_count": 57
  },
  {
   "metadata": {},
   "cell_type": "markdown",
   "source": "# Tratamiento de json por documento",
   "id": "453f92ce714917e7"
  },
  {
   "metadata": {
    "ExecuteTime": {
     "end_time": "2024-04-30T12:32:48.416831Z",
     "start_time": "2024-04-30T12:32:48.414528Z"
    }
   },
   "cell_type": "code",
   "source": "",
   "id": "848a2a37caa1133e",
   "outputs": [],
   "execution_count": 8
  },
  {
   "metadata": {
    "ExecuteTime": {
     "end_time": "2024-04-30T12:33:15.140958Z",
     "start_time": "2024-04-30T12:33:12.094053Z"
    }
   },
   "cell_type": "code",
   "source": [
    "!conda install nltk -q\n",
    "import nltk\n",
    "from nltk.corpus import stopwords\n",
    "from nltk.tokenize import word_tokenize\n",
    "import string\n",
    "from gensim.models import Word2Vec\n",
    "from langdetect import detect"
   ],
   "id": "43ff30063cd8e63e",
   "outputs": [
    {
     "name": "stdout",
     "output_type": "stream",
     "text": [
      "Channels:\r\n",
      " - defaults\r\n",
      "Platform: linux-64\r\n",
      "Collecting package metadata (repodata.json): ...working... done\r\n",
      "Solving environment: ...working... done\r\n",
      "\r\n",
      "# All requested packages already installed.\r\n",
      "\r\n"
     ]
    },
    {
     "ename": "ModuleNotFoundError",
     "evalue": "No module named 'nltk'",
     "output_type": "error",
     "traceback": [
      "\u001B[0;31m---------------------------------------------------------------------------\u001B[0m",
      "\u001B[0;31mModuleNotFoundError\u001B[0m                       Traceback (most recent call last)",
      "Cell \u001B[0;32mIn[11], line 2\u001B[0m\n\u001B[1;32m      1\u001B[0m get_ipython()\u001B[38;5;241m.\u001B[39msystem(\u001B[38;5;124m'\u001B[39m\u001B[38;5;124mconda install nltk -q\u001B[39m\u001B[38;5;124m'\u001B[39m)\n\u001B[0;32m----> 2\u001B[0m \u001B[38;5;28;01mimport\u001B[39;00m \u001B[38;5;21;01mnltk\u001B[39;00m\n\u001B[1;32m      3\u001B[0m \u001B[38;5;28;01mfrom\u001B[39;00m \u001B[38;5;21;01mnltk\u001B[39;00m\u001B[38;5;21;01m.\u001B[39;00m\u001B[38;5;21;01mcorpus\u001B[39;00m \u001B[38;5;28;01mimport\u001B[39;00m stopwords\n\u001B[1;32m      4\u001B[0m \u001B[38;5;28;01mfrom\u001B[39;00m \u001B[38;5;21;01mnltk\u001B[39;00m\u001B[38;5;21;01m.\u001B[39;00m\u001B[38;5;21;01mtokenize\u001B[39;00m \u001B[38;5;28;01mimport\u001B[39;00m word_tokenize\n",
      "\u001B[0;31mModuleNotFoundError\u001B[0m: No module named 'nltk'"
     ]
    }
   ],
   "execution_count": 11
  },
  {
   "metadata": {},
   "cell_type": "code",
   "outputs": [],
   "execution_count": null,
   "source": [
    "def tokenizacion_texto(texto):\n",
    "    stop_words = stopwords.words('english')\n",
    "    texto = texto.lower()\n",
    "    tokens = word_tokenize(texto)\n",
    "    text_filtrado = [word for word in tokens if not word in stop_words]\n",
    "    return text_filtrado"
   ],
   "id": "f543e7a62677a5d7"
  },
  {
   "metadata": {},
   "cell_type": "code",
   "outputs": [],
   "execution_count": null,
   "source": "",
   "id": "f7d92609c5a6e997"
  },
  {
   "metadata": {},
   "cell_type": "code",
   "outputs": [],
   "execution_count": null,
   "source": "",
   "id": "e62b8dad5a4275a1"
  },
  {
   "metadata": {},
   "cell_type": "code",
   "outputs": [],
   "execution_count": null,
   "source": "",
   "id": "541f461570dacb9a"
  },
  {
   "metadata": {},
   "cell_type": "code",
   "outputs": [],
   "execution_count": null,
   "source": "",
   "id": "df7e3302dc971022"
  },
  {
   "metadata": {},
   "cell_type": "code",
   "outputs": [],
   "execution_count": null,
   "source": "",
   "id": "7094ee714bf0541c"
  },
  {
   "metadata": {},
   "cell_type": "markdown",
   "source": "# Asignacion de Puntaje",
   "id": "b6145878c2ffad6a"
  },
  {
   "metadata": {},
   "cell_type": "code",
   "outputs": [],
   "execution_count": null,
   "source": "",
   "id": "8152a406b400cd8"
  },
  {
   "metadata": {},
   "cell_type": "code",
   "outputs": [],
   "execution_count": null,
   "source": "",
   "id": "d8367d36faacfff7"
  },
  {
   "metadata": {},
   "cell_type": "code",
   "outputs": [],
   "execution_count": null,
   "source": "",
   "id": "d52fcb88bd08c01c"
  },
  {
   "metadata": {},
   "cell_type": "markdown",
   "source": "# Graficas de rendimiento",
   "id": "ed42f0bbac1e281b"
  },
  {
   "metadata": {},
   "cell_type": "markdown",
   "source": "# Resultados",
   "id": "fd3b118a2229f46f"
  },
  {
   "metadata": {},
   "cell_type": "markdown",
   "source": "# Ejecucion",
   "id": "e382560cc7e630ee"
  },
  {
   "metadata": {
    "ExecuteTime": {
     "end_time": "2024-04-30T11:48:54.593868Z",
     "start_time": "2024-04-30T11:48:54.591948Z"
    }
   },
   "cell_type": "code",
   "source": [
    "def procesar_archivos(ruta_txt):\n",
    "    archivos = os.listdir(ruta_txt)\n",
    "    for archivo in archivos:\n",
    "        ruta_archivo = os.path.join(ruta_txt, archivo)\n",
    "        try:\n",
    "            convert_doc_to_json(ruta_archivo)\n",
    "        except Exception as e:\n",
    "            print(\"Error al insertar datos:\", e)"
   ],
   "id": "d9b94fe5d7325c79",
   "outputs": [],
   "execution_count": 15
  },
  {
   "metadata": {
    "ExecuteTime": {
     "end_time": "2024-04-30T11:48:54.596747Z",
     "start_time": "2024-04-30T11:48:54.594943Z"
    }
   },
   "cell_type": "code",
   "source": "",
   "id": "6c52ecda7e6e2b47",
   "outputs": [],
   "execution_count": 15
  },
  {
   "metadata": {
    "ExecuteTime": {
     "end_time": "2024-04-30T11:48:54.599658Z",
     "start_time": "2024-04-30T11:48:54.597955Z"
    }
   },
   "cell_type": "code",
   "source": "",
   "id": "637be834dafac61d",
   "outputs": [],
   "execution_count": 15
  },
  {
   "metadata": {
    "ExecuteTime": {
     "end_time": "2024-04-30T11:48:54.602357Z",
     "start_time": "2024-04-30T11:48:54.600662Z"
    }
   },
   "cell_type": "code",
   "source": "",
   "id": "61e1f01bd8a84655",
   "outputs": [],
   "execution_count": 15
  },
  {
   "metadata": {
    "ExecuteTime": {
     "end_time": "2024-04-30T11:48:54.605001Z",
     "start_time": "2024-04-30T11:48:54.603283Z"
    }
   },
   "cell_type": "code",
   "source": "",
   "id": "4c150a6411f5557a",
   "outputs": [],
   "execution_count": 15
  },
  {
   "metadata": {
    "ExecuteTime": {
     "end_time": "2024-04-30T11:48:54.607748Z",
     "start_time": "2024-04-30T11:48:54.605940Z"
    }
   },
   "cell_type": "code",
   "source": "",
   "id": "d2ca2b910df6f923",
   "outputs": [],
   "execution_count": 15
  },
  {
   "metadata": {
    "ExecuteTime": {
     "end_time": "2024-04-30T11:48:54.610446Z",
     "start_time": "2024-04-30T11:48:54.608718Z"
    }
   },
   "cell_type": "code",
   "source": "",
   "id": "b57ba5623723a8f",
   "outputs": [],
   "execution_count": 15
  },
  {
   "metadata": {
    "ExecuteTime": {
     "end_time": "2024-04-30T11:48:54.613617Z",
     "start_time": "2024-04-30T11:48:54.611700Z"
    }
   },
   "cell_type": "code",
   "source": "",
   "id": "e8aa6255e81c3306",
   "outputs": [],
   "execution_count": 15
  },
  {
   "metadata": {
    "ExecuteTime": {
     "end_time": "2024-04-30T11:48:54.616274Z",
     "start_time": "2024-04-30T11:48:54.614605Z"
    }
   },
   "cell_type": "code",
   "source": "",
   "id": "b1efffdef192a4dd",
   "outputs": [],
   "execution_count": 15
  },
  {
   "metadata": {
    "ExecuteTime": {
     "end_time": "2024-04-30T11:48:54.618879Z",
     "start_time": "2024-04-30T11:48:54.617220Z"
    }
   },
   "cell_type": "code",
   "source": "",
   "id": "209cc7499daf3508",
   "outputs": [],
   "execution_count": 15
  },
  {
   "metadata": {
    "ExecuteTime": {
     "end_time": "2024-04-30T11:48:54.621562Z",
     "start_time": "2024-04-30T11:48:54.619869Z"
    }
   },
   "cell_type": "code",
   "source": "",
   "id": "1c39589e8aa042f8",
   "outputs": [],
   "execution_count": 15
  },
  {
   "metadata": {
    "ExecuteTime": {
     "end_time": "2024-04-30T11:48:54.625721Z",
     "start_time": "2024-04-30T11:48:54.623279Z"
    }
   },
   "cell_type": "code",
   "source": "",
   "id": "70e1edf0f55808b",
   "outputs": [],
   "execution_count": 15
  },
  {
   "metadata": {
    "ExecuteTime": {
     "end_time": "2024-04-30T11:48:54.628926Z",
     "start_time": "2024-04-30T11:48:54.626801Z"
    }
   },
   "cell_type": "code",
   "source": "",
   "id": "11f5dc9a38549840",
   "outputs": [],
   "execution_count": 15
  },
  {
   "metadata": {},
   "cell_type": "code",
   "outputs": [],
   "execution_count": null,
   "source": "",
   "id": "5227bd3b72251460"
  }
 ],
 "metadata": {
  "kernelspec": {
   "display_name": "Python 3",
   "language": "python",
   "name": "python3"
  },
  "language_info": {
   "codemirror_mode": {
    "name": "ipython",
    "version": 2
   },
   "file_extension": ".py",
   "mimetype": "text/x-python",
   "name": "python",
   "nbconvert_exporter": "python",
   "pygments_lexer": "ipython2",
   "version": "2.7.6"
  }
 },
 "nbformat": 4,
 "nbformat_minor": 5
}
