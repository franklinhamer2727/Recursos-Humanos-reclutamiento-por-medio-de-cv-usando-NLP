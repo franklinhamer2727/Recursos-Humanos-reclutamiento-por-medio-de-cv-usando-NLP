{
 "cells": [
  {
   "metadata": {},
   "cell_type": "markdown",
   "source": "# PROCESO DE ANALISIS DE DATOS",
   "id": "9063e27eb51e717c"
  },
  {
   "metadata": {},
   "cell_type": "markdown",
   "source": "## Importacion de Librerias",
   "id": "99a39c6104c98032"
  },
  {
   "metadata": {
    "ExecuteTime": {
     "end_time": "2024-04-29T12:06:35.410169Z",
     "start_time": "2024-04-29T12:06:35.365410Z"
    }
   },
   "cell_type": "code",
   "source": [
    "import time\n",
    "import os\n",
    "from tqdm import tqdm\n",
    "from pdf2image import convert_from_path"
   ],
   "id": "dd27af3405144dc9",
   "outputs": [],
   "execution_count": 7
  },
  {
   "metadata": {},
   "cell_type": "markdown",
   "source": "## Funcion para convertir pdf en imagen",
   "id": "888ecb8bcd702c11"
  },
  {
   "metadata": {
    "ExecuteTime": {
     "end_time": "2024-04-29T12:27:41.396451Z",
     "start_time": "2024-04-29T12:27:41.391723Z"
    }
   },
   "cell_type": "code",
   "source": [
    "def pdf_to_image(pdf_path, image_prefix):\n",
    "    try:\n",
    "        images = convert_from_path(pdf_path, dpi=300)\n",
    "        progress_bar = tqdm(total=len(images), desc=\"Convirtiendo páginas\")\n",
    "        for i, image in enumerate(images):\n",
    "            image_path = f\"{image_prefix}_page{i + 1}.jpg\"\n",
    "            image.save(image_path, 'JPEG')\n",
    "            progress_bar.update(1)\n",
    "        progress_bar.close()\n",
    "    except Exception as e:\n",
    "        print(f\"Error al convertir el archivo: {pdf_path}\")\n",
    "        print(f\"Mensaje de error: {str(e)}\")"
   ],
   "id": "27c519cf639c9e75",
   "outputs": [],
   "execution_count": 17
  },
  {
   "metadata": {
    "ExecuteTime": {
     "end_time": "2024-04-29T12:27:41.622961Z",
     "start_time": "2024-04-29T12:27:41.617999Z"
    }
   },
   "cell_type": "code",
   "source": [
    "def ejecutar_pdf_to_image(ruta_base_input, ruta_base_output):\n",
    "    for archivo in tqdm(os.listdir(ruta_base_input)):\n",
    "        if archivo.endswith('.pdf'):\n",
    "            nombre_archivo = os.path.splitext(archivo)[0]\n",
    "            carpeta_archivo = os.path.join(ruta_base_output, nombre_archivo) +'/'\n",
    "            os.makedirs(carpeta_archivo, exist_ok=True)\n",
    "            ruta_input = os.path.join(ruta_base_input, archivo)\n",
    "            pdf_to_image(ruta_input, carpeta_archivo)"
   ],
   "id": "b630fa86c719e366",
   "outputs": [],
   "execution_count": 18
  },
  {
   "metadata": {},
   "cell_type": "markdown",
   "source": "## Rutas de archivos",
   "id": "221fa4b68bef656d"
  },
  {
   "metadata": {
    "ExecuteTime": {
     "end_time": "2024-04-29T12:36:30.376234Z",
     "start_time": "2024-04-29T12:36:30.373383Z"
    }
   },
   "cell_type": "code",
   "source": [
    "import os\n",
    "ruta_pdf = \"../postulantes/pdf\"\n",
    "ruta_jpg = \"../postulantes/jpg\"\n",
    "ruta_txt = \"../postulantes/txt\""
   ],
   "id": "313fe49c1db801e9",
   "outputs": [],
   "execution_count": 28
  },
  {
   "metadata": {
    "ExecuteTime": {
     "end_time": "2024-04-29T12:27:54.632904Z",
     "start_time": "2024-04-29T12:27:53.661154Z"
    }
   },
   "cell_type": "code",
   "source": "ejecutar_pdf_to_image(ruta_pdf, ruta_jpg)",
   "id": "5c71dc5a4fd9b01f",
   "outputs": [
    {
     "name": "stderr",
     "output_type": "stream",
     "text": [
      "  0%|          | 0/3 [00:00<?, ?it/s]\n",
      "Convirtiendo páginas:   0%|          | 0/4 [00:00<?, ?it/s]\u001B[A\n",
      "Convirtiendo páginas: 100%|██████████| 4/4 [00:00<00:00, 28.21it/s]\u001B[A\n",
      " 33%|███▎      | 1/3 [00:00<00:00,  2.58it/s]\n",
      "Convirtiendo páginas: 100%|██████████| 2/2 [00:00<00:00, 28.27it/s]\n",
      " 67%|██████▋   | 2/3 [00:00<00:00,  3.21it/s]\n",
      "Convirtiendo páginas:   0%|          | 0/3 [00:00<?, ?it/s]\u001B[A\n",
      "Convirtiendo páginas: 100%|██████████| 3/3 [00:00<00:00, 28.64it/s]\u001B[A\n",
      "100%|██████████| 3/3 [00:00<00:00,  3.11it/s]\n"
     ]
    }
   ],
   "execution_count": 22
  },
  {
   "metadata": {},
   "cell_type": "markdown",
   "source": "# Convertir JPG en formato Texto",
   "id": "6b68644a5b93f99e"
  },
  {
   "metadata": {},
   "cell_type": "markdown",
   "source": "## Importacion de librerias",
   "id": "450138024d60f0a1"
  },
  {
   "metadata": {
    "ExecuteTime": {
     "end_time": "2024-04-29T12:31:13.544867Z",
     "start_time": "2024-04-29T12:31:13.306480Z"
    }
   },
   "cell_type": "code",
   "source": [
    "from PIL import Image\n",
    "from pytesseract import image_to_string"
   ],
   "id": "57430e3e02650b92",
   "outputs": [],
   "execution_count": 23
  },
  {
   "metadata": {
    "ExecuteTime": {
     "end_time": "2024-04-29T12:36:34.008363Z",
     "start_time": "2024-04-29T12:36:34.003442Z"
    }
   },
   "cell_type": "code",
   "source": [
    "def lectura_jpg_to_txt(ruta_jpg,ruta_txt,folder):\n",
    "    text = ''\n",
    "    if os.path.isdir(ruta_jpg):\n",
    "        print(f\"Archivos en la carpeta {folder}\")\n",
    "        for archivo in sorted(os.listdir(ruta_jpg)):\n",
    "            if archivo.endswith(\".jpg\"):\n",
    "                ruta_image = os.path.join(ruta_jpg,archivo)\n",
    "                # text = image_to_string(Image.open(ruta_image))\n",
    "                text += image_to_string(Image.open(ruta_image)) + '\\n'\n",
    "                \n",
    "    with open(ruta_txt, 'w') as file:\n",
    "        file.write(text)"
   ],
   "id": "72808c6b1b8029be",
   "outputs": [],
   "execution_count": 29
  },
  {
   "metadata": {
    "ExecuteTime": {
     "end_time": "2024-04-29T12:36:34.198014Z",
     "start_time": "2024-04-29T12:36:34.193921Z"
    }
   },
   "cell_type": "code",
   "source": [
    "def lectura_folder(ruta_jpg,ruta_txt):\n",
    "    for folder in os.listdir(ruta_jpg):\n",
    "        ruta_input_folder = os.path.join(ruta_jpg,folder) +'/'\n",
    "        output_file = os.path.join(ruta_txt,f'{folder}.txt')\n",
    "        \n",
    "        lectura_jpg_to_txt(ruta_input_folder,output_file,folder)"
   ],
   "id": "a49b040806176bdd",
   "outputs": [],
   "execution_count": 30
  },
  {
   "metadata": {
    "ExecuteTime": {
     "end_time": "2024-04-29T12:37:27.848093Z",
     "start_time": "2024-04-29T12:37:14.708846Z"
    }
   },
   "cell_type": "code",
   "source": "lectura_folder(ruta_jpg,ruta_txt)",
   "id": "80adc50694699ed2",
   "outputs": [
    {
     "name": "stdout",
     "output_type": "stream",
     "text": [
      "Archivos en la carpeta postulante1\n",
      "Archivos en la carpeta postulante2\n",
      "Archivos en la carpeta postulante3\n"
     ]
    }
   ],
   "execution_count": 32
  },
  {
   "metadata": {},
   "cell_type": "markdown",
   "source": "# Separacion en bloques del curriculum segun los encabezados",
   "id": "8b75de55033dc0da"
  },
  {
   "metadata": {},
   "cell_type": "markdown",
   "source": "## Importacion de librerias",
   "id": "2abc88e0dd1081c9"
  },
  {
   "metadata": {
    "ExecuteTime": {
     "end_time": "2024-04-29T12:41:41.091302Z",
     "start_time": "2024-04-29T12:41:41.088096Z"
    }
   },
   "cell_type": "code",
   "source": "import json",
   "id": "d3c10b50eba2af3b",
   "outputs": [],
   "execution_count": 34
  },
  {
   "metadata": {
    "ExecuteTime": {
     "end_time": "2024-04-29T12:41:41.583228Z",
     "start_time": "2024-04-29T12:41:41.579251Z"
    }
   },
   "cell_type": "code",
   "source": [
    "def leer_archivo(ruta_archivo):\n",
    "    with open(ruta_archivo,'r') as archivo:\n",
    "        contenido = archivo.read()\n",
    "    return contenido"
   ],
   "id": "5a8a01887ea8ae36",
   "outputs": [],
   "execution_count": 35
  },
  {
   "metadata": {
    "ExecuteTime": {
     "end_time": "2024-04-29T12:41:41.891466Z",
     "start_time": "2024-04-29T12:41:41.878358Z"
    }
   },
   "cell_type": "code",
   "source": [
    "def separar_bloques(texto):\n",
    "    informacion_personal = [\"Personal information\",\n",
    "                            \"Personal details\",\n",
    "                            \"Personal Profile\",\n",
    "                            \"Personal data\", \n",
    "                            \"Personal details\", \n",
    "                            \"Identity information\", \n",
    "                            \"Confidential information\", \n",
    "                            \"Private information\", \n",
    "                            \"Sensitive information\",\n",
    "                            \"Personal Dossier\",\n",
    "                            \"Resume\"]\n",
    "    \n",
    "    objetivos_profesionales = [\"Professional objectives\",\n",
    "                               \"Career aspirations\",\n",
    "                               \"Professional goal\",\n",
    "                               \"Occupational objectives\" \n",
    "                               \"Career goals\",\n",
    "                               \"Professional ambitions\",\n",
    "                               \"Professional summary\",\n",
    "                               \"Professional overview\",\n",
    "                               \"Work experience summary\",\n",
    "                               \"Career Objective\",\n",
    "                               \"Job target\",\"Goal\"]\n",
    "    experiencia_laboral = [\"Work experience\", \n",
    "                           \"Laboral experience\",\n",
    "                           \"Professional background\",\n",
    "                           \"Career history\",\n",
    "                           \"Professional experience\",\n",
    "                           \"Professional Trainings\",\n",
    "                           \"Job experience\",\n",
    "                           \"Employment record\",\n",
    "                           \"Employment history\",\n",
    "                           \"Working Experience\",\n",
    "                           \"Projects\",\n",
    "                           \"Experience\"]\n",
    "    education = [\"Education\",\n",
    "                 \"Academic and Professional\",\n",
    "                 \"academics\",\"ACADEMICS\",\n",
    "                 \"Academic background\",\n",
    "                 \"Educational history\", \n",
    "                 \"Academic record\", \n",
    "                 \"Scholarly background\",\n",
    "                 \"Educational qualifications\",\n",
    "                 \"Educational credentials\", \n",
    "                 \"Academic qualifications\", \n",
    "                 \"Educational achievements\",\n",
    "                 \"Academic Qualification\",\n",
    "                 \"Educational Background\",\n",
    "                 \"Academic degree\",\n",
    "                 \"Educational degree\", \n",
    "                 \"Qualification\",\n",
    "                \"academic details\",\n",
    "                 \"Educational details\",\n",
    "                 \"Scholastics\",\n",
    "                 \"Academic information\", \n",
    "                 \"Schooling particulars\"]\n",
    "    habilidades = [\"Technical and personal skills\",\n",
    "                   \"Technical and personal competencies\",\n",
    "                   \"Technical Skills\",\n",
    "                   \"Technical and personal expertise\",\n",
    "                   \"Abilities\", \n",
    "                   \"Competencies\",\n",
    "                   \"Personality Traits\",\n",
    "                   \"Software Skill\",\n",
    "                   \"Technical Proficiency\",\n",
    "                  \"Skills\"]\n",
    "    logros_premios = [\"Achievements and awards\", \n",
    "                      \"Accomplishments and honors\", \n",
    "                      \"Recognition and accolades\"]\n",
    "    \n",
    "    actividades_extracurriculares = [\"Extracurricular activities\", \n",
    "                                     \"Extra Curricular Activities\",\n",
    "                                     \"Additional activities\",\n",
    "                                     \"Extra Curricular Activitis\",\n",
    "                                     \"Extra Co-Curricutar Activities\",\n",
    "                                     \"Non-academic involvement\"]\n",
    "    referencias = [\"References\", \n",
    "                   \"Referees\", \n",
    "                   \"Recommendations\",\n",
    "                   \"Other Information\"]\n",
    "    cv_titulos = [informacion_personal,objetivos_profesionales,experiencia_laboral,\n",
    "                  education,habilidades,logros_premios,actividades_extracurriculares,referencias]\n",
    "    cv_titulos_dict = {\n",
    "    'informacion_personal': informacion_personal,\n",
    "    'objetivos_profesionales': objetivos_profesionales,\n",
    "    'experiencia_laboral': experiencia_laboral,\n",
    "    'education':education,\n",
    "    'habilidades':habilidades,\n",
    "    'logros_premios':logros_premios,\n",
    "    'actividades_extracurriculares':actividades_extracurriculares,\n",
    "    'referencias'   :referencias\n",
    "    }\n",
    "    cadenas_cv = []\n",
    "    cadenas_pos = []\n",
    "    cadenas_name = []\n",
    "    for cv_titulos in cv_titulos_dict.keys():\n",
    "        for find in cv_titulos_dict[cv_titulos]:\n",
    "            numero = texto.count(find.lower())\n",
    "            if(numero!=0):\n",
    "                print(find)\n",
    "                print(numero)\n",
    "            if numero!=0 and numero <2:\n",
    "                \n",
    "                pos_texto = texto.find(find.lower())\n",
    "                \n",
    "                if pos_texto != -1:\n",
    "                    cadenas_cv.append(find.lower())\n",
    "                    cadenas_pos.append(pos_texto)\n",
    "                    cadenas_name.append(cv_titulos)\n",
    "                    break\n",
    "    diccionario = {\n",
    "        'cadenas_name': cadenas_name,\n",
    "        'cadenas_cv': cadenas_cv,\n",
    "        'cadenas_pos': cadenas_pos,\n",
    "    }\n",
    "    \n",
    "    json_data = {}\n",
    "\n",
    "    diccionario_ordenado = dict(sorted(zip( diccionario['cadenas_name'],diccionario['cadenas_pos']),key=lambda x: x[1]))\n",
    "    name_bloque = 'Introduccion'\n",
    "    posicion_inicial_text = 0\n",
    "    count = 0\n",
    "    for key, value  in list(diccionario_ordenado.items()):        \n",
    "        json_data[name_bloque] = texto[posicion_inicial_text:value]    \n",
    "        name_bloque = key\n",
    "        posicion_inicial_text = value\n",
    "        count +=1\n",
    "    json_data[name_bloque] = texto[posicion_inicial_text:len(texto)]\n",
    "    \n",
    "    return json.dumps(json_data)"
   ],
   "id": "b38114f2cc80ba82",
   "outputs": [],
   "execution_count": 36
  },
  {
   "metadata": {
    "ExecuteTime": {
     "end_time": "2024-04-29T12:41:42.169004Z",
     "start_time": "2024-04-29T12:41:42.166980Z"
    }
   },
   "cell_type": "code",
   "source": "",
   "id": "cb48c23bab3662af",
   "outputs": [],
   "execution_count": 36
  },
  {
   "metadata": {},
   "cell_type": "markdown",
   "source": "# Asignacion de Puntaje",
   "id": "b6145878c2ffad6a"
  },
  {
   "metadata": {},
   "cell_type": "markdown",
   "source": "# Graficas de rendimiento",
   "id": "ed42f0bbac1e281b"
  },
  {
   "metadata": {},
   "cell_type": "markdown",
   "source": "# Resultados",
   "id": "fd3b118a2229f46f"
  },
  {
   "metadata": {},
   "cell_type": "code",
   "outputs": [],
   "execution_count": null,
   "source": "",
   "id": "27a1bfd0319849c2"
  }
 ],
 "metadata": {
  "kernelspec": {
   "display_name": "Python 3",
   "language": "python",
   "name": "python3"
  },
  "language_info": {
   "codemirror_mode": {
    "name": "ipython",
    "version": 2
   },
   "file_extension": ".py",
   "mimetype": "text/x-python",
   "name": "python",
   "nbconvert_exporter": "python",
   "pygments_lexer": "ipython2",
   "version": "2.7.6"
  }
 },
 "nbformat": 4,
 "nbformat_minor": 5
}
