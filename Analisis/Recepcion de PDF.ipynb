{
 "cells": [
  {
   "cell_type": "markdown",
   "id": "9063e27eb51e717c",
   "metadata": {},
   "source": [
    "# PROCESO DE ANALISIS DE DATOS"
   ]
  },
  {
   "cell_type": "markdown",
   "id": "99a39c6104c98032",
   "metadata": {},
   "source": [
    "## Importacion de Librerias"
   ]
  },
  {
   "cell_type": "code",
   "id": "dd27af3405144dc9",
   "metadata": {
    "ExecuteTime": {
     "end_time": "2024-05-03T02:50:27.191351Z",
     "start_time": "2024-05-03T02:50:27.152236Z"
    }
   },
   "source": [
    "import time\n",
    "import os\n",
    "from tqdm import tqdm\n",
    "from pdf2image import convert_from_path"
   ],
   "outputs": [],
   "execution_count": 3
  },
  {
   "cell_type": "markdown",
   "id": "888ecb8bcd702c11",
   "metadata": {},
   "source": [
    "## Funcion para convertir pdf en imagen"
   ]
  },
  {
   "cell_type": "code",
   "id": "27c519cf639c9e75",
   "metadata": {
    "ExecuteTime": {
     "end_time": "2024-05-03T02:50:28.292792Z",
     "start_time": "2024-05-03T02:50:28.287521Z"
    }
   },
   "source": [
    "def pdf_to_image(pdf_path, image_prefix):\n",
    "    try:\n",
    "        images = convert_from_path(pdf_path, dpi=300)\n",
    "        progress_bar = tqdm(total=len(images), desc=\"Convirtiendo páginas\")\n",
    "        for i, image in enumerate(images):\n",
    "            image_path = f\"{image_prefix}_page{i + 1}.jpg\"\n",
    "            image.save(image_path, 'JPEG')\n",
    "            progress_bar.update(1)\n",
    "        progress_bar.close()\n",
    "    except Exception as e:\n",
    "        print(f\"Error al convertir el archivo: {pdf_path}\")\n",
    "        print(f\"Mensaje de error: {str(e)}\")"
   ],
   "outputs": [],
   "execution_count": 4
  },
  {
   "cell_type": "code",
   "id": "b630fa86c719e366",
   "metadata": {
    "ExecuteTime": {
     "end_time": "2024-05-03T02:50:28.809614Z",
     "start_time": "2024-05-03T02:50:28.804800Z"
    }
   },
   "source": [
    "def ejecutar_pdf_to_image(ruta_base_input, ruta_base_output):\n",
    "    for archivo in tqdm(os.listdir(ruta_base_input)):\n",
    "        if archivo.endswith('.pdf'):\n",
    "            nombre_archivo = os.path.splitext(archivo)[0]\n",
    "            carpeta_archivo = os.path.join(ruta_base_output, nombre_archivo) +'/'\n",
    "            os.makedirs(carpeta_archivo, exist_ok=True)\n",
    "            ruta_input = os.path.join(ruta_base_input, archivo)\n",
    "            pdf_to_image(ruta_input, carpeta_archivo)"
   ],
   "outputs": [],
   "execution_count": 5
  },
  {
   "cell_type": "markdown",
   "id": "221fa4b68bef656d",
   "metadata": {},
   "source": [
    "## Rutas de archivos"
   ]
  },
  {
   "cell_type": "code",
   "id": "313fe49c1db801e9",
   "metadata": {
    "ExecuteTime": {
     "end_time": "2024-05-03T02:50:29.950633Z",
     "start_time": "2024-05-03T02:50:29.942482Z"
    }
   },
   "source": [
    "import os\n",
    "\n",
    "ruta_pdf = \"../postulantes/pdf\"\n",
    "ruta_jpg = \"../postulantes/jpg/\"\n",
    "ruta_txt = \"../postulantes/txt/\"\n",
    "os.listdir(ruta_jpg)"
   ],
   "outputs": [
    {
     "data": {
      "text/plain": [
       "['postulante1', 'postulante2', 'postulante3']"
      ]
     },
     "execution_count": 6,
     "metadata": {},
     "output_type": "execute_result"
    }
   ],
   "execution_count": 6
  },
  {
   "cell_type": "code",
   "id": "5c71dc5a4fd9b01f",
   "metadata": {
    "ExecuteTime": {
     "end_time": "2024-05-03T02:50:33.314351Z",
     "start_time": "2024-05-03T02:50:31.120510Z"
    }
   },
   "source": [
    "ejecutar_pdf_to_image(ruta_pdf, ruta_jpg)"
   ],
   "outputs": [
    {
     "name": "stderr",
     "output_type": "stream",
     "text": [
      "  0%|          | 0/7 [00:00<?, ?it/s]\n",
      "Convirtiendo páginas:   0%|          | 0/3 [00:00<?, ?it/s]\u001B[A\n",
      "Convirtiendo páginas: 100%|██████████| 3/3 [00:00<00:00, 24.25it/s]\u001B[A\n",
      " 14%|█▍        | 1/7 [00:00<00:02,  2.93it/s]\n",
      "Convirtiendo páginas:   0%|          | 0/4 [00:00<?, ?it/s]\u001B[A\n",
      "Convirtiendo páginas: 100%|██████████| 4/4 [00:00<00:00, 27.97it/s]\u001B[A\n",
      " 29%|██▊       | 2/7 [00:00<00:01,  2.67it/s]\n",
      "Convirtiendo páginas: 100%|██████████| 2/2 [00:00<00:00, 26.70it/s]\n",
      " 43%|████▎     | 3/7 [00:00<00:01,  3.14it/s]\n",
      "Convirtiendo páginas: 100%|██████████| 2/2 [00:00<00:00, 27.94it/s]\n",
      " 57%|█████▋    | 4/7 [00:01<00:00,  3.49it/s]\n",
      "Convirtiendo páginas: 100%|██████████| 2/2 [00:00<00:00, 27.13it/s]\n",
      " 71%|███████▏  | 5/7 [00:01<00:00,  3.74it/s]\n",
      "Convirtiendo páginas:   0%|          | 0/4 [00:00<?, ?it/s]\u001B[A\n",
      "Convirtiendo páginas: 100%|██████████| 4/4 [00:00<00:00, 27.89it/s]\u001B[A\n",
      " 86%|████████▌ | 6/7 [00:01<00:00,  3.17it/s]\n",
      "Convirtiendo páginas:   0%|          | 0/3 [00:00<?, ?it/s]\u001B[A\n",
      "Convirtiendo páginas: 100%|██████████| 3/3 [00:00<00:00, 28.43it/s]\u001B[A\n",
      "100%|██████████| 7/7 [00:02<00:00,  3.20it/s]\n"
     ]
    }
   ],
   "execution_count": 7
  },
  {
   "cell_type": "markdown",
   "id": "6b68644a5b93f99e",
   "metadata": {},
   "source": [
    "# Convertir JPG en formato Texto"
   ]
  },
  {
   "cell_type": "markdown",
   "id": "450138024d60f0a1",
   "metadata": {},
   "source": [
    "## Importacion de librerias"
   ]
  },
  {
   "cell_type": "code",
   "id": "57430e3e02650b92",
   "metadata": {
    "ExecuteTime": {
     "end_time": "2024-05-03T02:50:35.608440Z",
     "start_time": "2024-05-03T02:50:35.454210Z"
    }
   },
   "source": [
    "from PIL import Image\n",
    "from pytesseract import image_to_string"
   ],
   "outputs": [],
   "execution_count": 8
  },
  {
   "cell_type": "code",
   "id": "72808c6b1b8029be",
   "metadata": {
    "ExecuteTime": {
     "end_time": "2024-05-03T02:50:35.800832Z",
     "start_time": "2024-05-03T02:50:35.797102Z"
    }
   },
   "source": [
    "def lectura_jpg_to_txt(ruta_jpg,ruta_txt,folder):\n",
    "    text = ''\n",
    "    if os.path.isdir(ruta_jpg):\n",
    "        print(f\"Archivos en la carpeta {folder}\")\n",
    "        for archivo in sorted(os.listdir(ruta_jpg)):\n",
    "            if archivo.endswith(\".jpg\"):\n",
    "                ruta_image = os.path.join(ruta_jpg,archivo)\n",
    "                # text = image_to_string(Image.open(ruta_image))\n",
    "                text += image_to_string(Image.open(ruta_image)) + '\\n'\n",
    "                \n",
    "    with open(ruta_txt, 'w') as file:\n",
    "        file.write(text)"
   ],
   "outputs": [],
   "execution_count": 9
  },
  {
   "cell_type": "code",
   "id": "a49b040806176bdd",
   "metadata": {
    "ExecuteTime": {
     "end_time": "2024-05-03T02:50:36.780302Z",
     "start_time": "2024-05-03T02:50:36.776630Z"
    }
   },
   "source": [
    "def lectura_folder(ruta_jpg,ruta_txt):\n",
    "    for folder in os.listdir(ruta_jpg):\n",
    "        ruta_input_folder = os.path.join(ruta_jpg,folder) +'/'\n",
    "        output_file = os.path.join(ruta_txt,f'{folder}.txt')\n",
    "        \n",
    "        lectura_jpg_to_txt(ruta_input_folder,output_file,folder)"
   ],
   "outputs": [],
   "execution_count": 10
  },
  {
   "cell_type": "code",
   "id": "80adc50694699ed2",
   "metadata": {
    "ExecuteTime": {
     "end_time": "2024-05-03T02:51:17.272808Z",
     "start_time": "2024-05-03T02:50:37.726773Z"
    }
   },
   "source": [
    "lectura_folder(ruta_jpg,ruta_txt)"
   ],
   "outputs": [
    {
     "name": "stdout",
     "output_type": "stream",
     "text": [
      "Archivos en la carpeta postulante1\n",
      "Archivos en la carpeta ASJAD_ALI\n",
      "Archivos en la carpeta postulante2\n",
      "Archivos en la carpeta Pradeep_Kumar\n",
      "Archivos en la carpeta postulante3\n",
      "Archivos en la carpeta PRASOON_KUMAR\n",
      "Archivos en la carpeta Dharam_vir\n",
      "Archivos en la carpeta SATYAM_KUMAR\n",
      "Archivos en la carpeta PRIYANKA_SANGANERIA\n",
      "Archivos en la carpeta R.MUTHUKRISHNAN\n"
     ]
    }
   ],
   "execution_count": 11
  },
  {
   "cell_type": "markdown",
   "id": "8b75de55033dc0da",
   "metadata": {},
   "source": [
    "# Separacion en bloques del curriculum segun los encabezados"
   ]
  },
  {
   "cell_type": "markdown",
   "id": "2abc88e0dd1081c9",
   "metadata": {},
   "source": [
    "## Importacion de librerias"
   ]
  },
  {
   "cell_type": "markdown",
   "id": "453f92ce714917e7",
   "metadata": {},
   "source": [
    "# Tratamiento de json por documento"
   ]
  },
  {
   "cell_type": "markdown",
   "id": "b6145878c2ffad6a",
   "metadata": {},
   "source": [
    "# Asignacion de Puntaje"
   ]
  },
  {
   "cell_type": "code",
   "execution_count": 65,
   "id": "8152a406b400cd8",
   "metadata": {
    "ExecuteTime": {
     "end_time": "2024-05-02T01:41:16.603763Z",
     "start_time": "2024-05-02T01:41:16.597311Z"
    }
   },
   "outputs": [],
   "source": []
  },
  {
   "cell_type": "code",
   "execution_count": 65,
   "id": "d8367d36faacfff7",
   "metadata": {
    "ExecuteTime": {
     "end_time": "2024-05-02T01:41:16.812231Z",
     "start_time": "2024-05-02T01:41:16.806168Z"
    }
   },
   "outputs": [],
   "source": []
  },
  {
   "cell_type": "code",
   "execution_count": 65,
   "id": "d52fcb88bd08c01c",
   "metadata": {
    "ExecuteTime": {
     "end_time": "2024-05-02T01:41:16.919312Z",
     "start_time": "2024-05-02T01:41:16.912052Z"
    }
   },
   "outputs": [],
   "source": []
  },
  {
   "cell_type": "markdown",
   "id": "ed42f0bbac1e281b",
   "metadata": {},
   "source": [
    "# Graficas de rendimiento"
   ]
  },
  {
   "cell_type": "markdown",
   "id": "fd3b118a2229f46f",
   "metadata": {},
   "source": [
    "# Resultados"
   ]
  },
  {
   "cell_type": "markdown",
   "id": "e382560cc7e630ee",
   "metadata": {},
   "source": [
    "# Ejecucion"
   ]
  },
  {
   "cell_type": "code",
   "execution_count": 19,
   "id": "d9b94fe5d7325c79",
   "metadata": {
    "ExecuteTime": {
     "end_time": "2024-05-02T23:59:35.132840Z",
     "start_time": "2024-05-02T23:59:35.128386Z"
    }
   },
   "outputs": [],
   "source": ""
  },
  {
   "cell_type": "code",
   "execution_count": 20,
   "id": "6c52ecda7e6e2b47",
   "metadata": {
    "ExecuteTime": {
     "end_time": "2024-05-02T23:59:35.704603Z",
     "start_time": "2024-05-02T23:59:35.699994Z"
    }
   },
   "outputs": [
    {
     "name": "stdout",
     "output_type": "stream",
     "text": [
      "Error al insertar datos: name 'stopwords' is not defined\n",
      "Error al insertar datos: name 'stopwords' is not defined\n",
      "Error al insertar datos: name 'stopwords' is not defined\n"
     ]
    }
   ],
   "source": [
    "procesar_archivos(ruta_txt)"
   ]
  },
  {
   "cell_type": "code",
   "execution_count": 47,
   "id": "637be834dafac61d",
   "metadata": {
    "ExecuteTime": {
     "end_time": "2024-05-02T01:31:04.227109Z",
     "start_time": "2024-05-02T01:31:04.220082Z"
    }
   },
   "outputs": [],
   "source": []
  },
  {
   "cell_type": "code",
   "execution_count": 18,
   "id": "61e1f01bd8a84655",
   "metadata": {
    "ExecuteTime": {
     "end_time": "2024-05-02T01:27:46.078217Z",
     "start_time": "2024-05-02T01:27:46.071922Z"
    }
   },
   "outputs": [],
   "source": []
  },
  {
   "cell_type": "code",
   "execution_count": 15,
   "id": "4c150a6411f5557a",
   "metadata": {
    "ExecuteTime": {
     "end_time": "2024-04-30T11:48:54.605001Z",
     "start_time": "2024-04-30T11:48:54.603283Z"
    }
   },
   "outputs": [],
   "source": []
  },
  {
   "cell_type": "code",
   "execution_count": 15,
   "id": "d2ca2b910df6f923",
   "metadata": {
    "ExecuteTime": {
     "end_time": "2024-04-30T11:48:54.607748Z",
     "start_time": "2024-04-30T11:48:54.605940Z"
    }
   },
   "outputs": [],
   "source": []
  },
  {
   "cell_type": "code",
   "execution_count": 15,
   "id": "b57ba5623723a8f",
   "metadata": {
    "ExecuteTime": {
     "end_time": "2024-04-30T11:48:54.610446Z",
     "start_time": "2024-04-30T11:48:54.608718Z"
    }
   },
   "outputs": [],
   "source": []
  },
  {
   "cell_type": "code",
   "execution_count": 15,
   "id": "e8aa6255e81c3306",
   "metadata": {
    "ExecuteTime": {
     "end_time": "2024-04-30T11:48:54.613617Z",
     "start_time": "2024-04-30T11:48:54.611700Z"
    }
   },
   "outputs": [],
   "source": []
  },
  {
   "cell_type": "code",
   "execution_count": 15,
   "id": "b1efffdef192a4dd",
   "metadata": {
    "ExecuteTime": {
     "end_time": "2024-04-30T11:48:54.616274Z",
     "start_time": "2024-04-30T11:48:54.614605Z"
    }
   },
   "outputs": [],
   "source": []
  },
  {
   "cell_type": "code",
   "execution_count": 15,
   "id": "209cc7499daf3508",
   "metadata": {
    "ExecuteTime": {
     "end_time": "2024-04-30T11:48:54.618879Z",
     "start_time": "2024-04-30T11:48:54.617220Z"
    }
   },
   "outputs": [],
   "source": []
  },
  {
   "cell_type": "code",
   "execution_count": 15,
   "id": "1c39589e8aa042f8",
   "metadata": {
    "ExecuteTime": {
     "end_time": "2024-04-30T11:48:54.621562Z",
     "start_time": "2024-04-30T11:48:54.619869Z"
    }
   },
   "outputs": [],
   "source": []
  },
  {
   "cell_type": "code",
   "execution_count": 15,
   "id": "70e1edf0f55808b",
   "metadata": {
    "ExecuteTime": {
     "end_time": "2024-04-30T11:48:54.625721Z",
     "start_time": "2024-04-30T11:48:54.623279Z"
    }
   },
   "outputs": [],
   "source": []
  },
  {
   "cell_type": "code",
   "execution_count": 15,
   "id": "11f5dc9a38549840",
   "metadata": {
    "ExecuteTime": {
     "end_time": "2024-04-30T11:48:54.628926Z",
     "start_time": "2024-04-30T11:48:54.626801Z"
    }
   },
   "outputs": [],
   "source": []
  },
  {
   "cell_type": "code",
   "execution_count": null,
   "id": "5227bd3b72251460",
   "metadata": {},
   "outputs": [],
   "source": []
  }
 ],
 "metadata": {
  "kernelspec": {
   "display_name": "Python 3 (ipykernel)",
   "language": "python",
   "name": "python3"
  },
  "language_info": {
   "codemirror_mode": {
    "name": "ipython",
    "version": 3
   },
   "file_extension": ".py",
   "mimetype": "text/x-python",
   "name": "python",
   "nbconvert_exporter": "python",
   "pygments_lexer": "ipython3",
   "version": "3.8.10"
  }
 },
 "nbformat": 4,
 "nbformat_minor": 5
}
