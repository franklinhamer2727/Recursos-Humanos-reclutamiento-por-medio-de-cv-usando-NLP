{
 "cells": [
  {
   "cell_type": "code",
   "execution_count": 2,
   "id": "1bc48add",
   "metadata": {},
   "source": [
    "import os\n",
    "ruta_base_input =  '/home/code/Escritorio/Tesis/Recursos-Humanos-reclutamiento-por-medio-de-cv-usando-NLP/data/curriculum_vitae_data/image/'\n",
    "ruta_base_output = '/home/code/Escritorio/Tesis/Recursos-Humanos-reclutamiento-por-medio-de-cv-usando-NLP/data/curriculum_vitae_data/txt/'\n",
    "print(len(os.listdir(ruta_base_input)))"
   ],
   "outputs": []
  },
  {
   "cell_type": "code",
   "execution_count": 6,
   "id": "d9dc5530",
   "metadata": {},
   "source": [
    "#sudo apt-get install tesseract-ocr"
   ],
   "outputs": []
  },
  {
   "cell_type": "code",
   "execution_count": 7,
   "id": "d721c6ae",
   "metadata": {},
   "source": [
    "from PIL import Image\n",
    "from pytesseract import image_to_string"
   ],
   "outputs": []
  },
  {
   "cell_type": "code",
   "execution_count": 8,
   "id": "b908d841",
   "metadata": {},
   "source": [
    "def lectura_jpg_to_txt(ruta_input,output_file):\n",
    "    text = ''\n",
    "    if os.path.isdir(ruta_input):\n",
    "        print(f\"Archivos en la carpeta {folder}\")\n",
    "        for archivo in sorted(os.listdir(ruta_input)):\n",
    "            if archivo.endswith(\".jpg\"):\n",
    "                ruta_image = os.path.join(ruta_input,archivo)\n",
    "                # text = image_to_string(Image.open(ruta_image))\n",
    "                text += image_to_string(Image.open(ruta_image)) + '\\n'\n",
    "                \n",
    "    with open(output_file, 'w') as file:\n",
    "        file.write(text)\n",
    "for folder in os.listdir(ruta_base_input):\n",
    "    ruta_input_folder = os.path.join(ruta_base_input,folder) +'/'\n",
    "    output_file = os.path.join(ruta_base_output,f'{folder}.txt')\n",
    "    \n",
    "    lectura_jpg_to_txt(ruta_input_folder,output_file)"
   ],
   "outputs": []
  },
  {
   "cell_type": "markdown",
   "id": "25fa6c92",
   "metadata": {},
   "source": [
    "### Separacion en bloques el cv segun los encabezados"
   ]
  },
  {
   "cell_type": "code",
   "execution_count": 54,
   "id": "0028ca3c",
   "metadata": {},
   "source": [
    "def leer_archivo(ruta_archivo):\n",
    "    with open(ruta_archivo,'r') as archivo:\n",
    "        contenido = archivo.read()\n",
    "    return contenido"
   ],
   "outputs": []
  },
  {
   "cell_type": "code",
   "execution_count": 186,
   "id": "d9f456f1",
   "metadata": {
    "scrolled": true
   },
   "source": [
    "ruta_base_output = './data/curriculum_vitae_data/txt/4.txt'\n",
    "\n",
    "texto = leer_archivo(ruta_base_output).lower()\n"
   ],
   "outputs": []
  },
  {
   "cell_type": "code",
   "execution_count": 187,
   "id": "1892a3f1-000e-4ec2-b4e5-117f86ed0e9e",
   "metadata": {},
   "source": [
    "texto"
   ],
   "outputs": []
  },
  {
   "cell_type": "code",
   "execution_count": 188,
   "id": "1493bb43",
   "metadata": {},
   "source": [
    "import pandas as pd\n",
    "import json"
   ],
   "outputs": []
  },
  {
   "cell_type": "code",
   "execution_count": 189,
   "id": "4892dac3",
   "metadata": {},
   "source": [
    "def separar_en_bloques(texto):\n",
    "    informacion_personal = [\"Personal information\",\n",
    "                            \"Personal details\",\n",
    "                            \"Personal Profile\",\n",
    "                            \"Personal data\", \n",
    "                            \"Personal details\", \n",
    "                            \"Identity information\", \n",
    "                            \"Confidential information\", \n",
    "                            \"Private information\", \n",
    "                            \"Sensitive information\",\n",
    "                            \"Resume\"]\n",
    "    \n",
    "    objetivos_profesionales = [\"Professional objectives\",\n",
    "                               \"Career aspirations\",\n",
    "                               \"Professional goal\",\n",
    "                               \"Occupational objectives\" \n",
    "                               \"Career goals\",\n",
    "                               \"Professional ambitions\",\n",
    "                               \"Professional summary\",\n",
    "                               \"Professional overview\",\n",
    "                               \"Work experience summary\",\n",
    "                               \"Career Objective\",\n",
    "                               \"Job target\",\"Goal\"]\n",
    "    experiencia_laboral = [\"Work experience\", \n",
    "                           \"Laboral experience\",\n",
    "                           \"Professional background\",\n",
    "                           \"Career history\",\n",
    "                           \"Professional experience\",\n",
    "                           \"Professional Trainings\",\n",
    "                           \"Job experience\",\n",
    "                           \"Employment record\",\n",
    "                           \"Employment history\",\n",
    "                           \"Experience\"]\n",
    "    education = [\"Education\",\n",
    "                 \"Academic and Professional\",\n",
    "                 \"academics\",\"ACADEMICS\",\n",
    "                 \"Academic background\",\n",
    "                 \"Educational history\", \n",
    "                 \"Academic record\", \n",
    "                 \"Scholarly background\",\n",
    "                 \"Educational qualifications\",\n",
    "                 \"Educational credentials\", \n",
    "                 \"Academic qualifications\", \n",
    "                 \"Educational achievements\",\n",
    "                 \"Academic Qualification\",\n",
    "                 \"Educational Background\",\n",
    "                 \"Academic degree\",\n",
    "                 \"Educational degree\", \n",
    "                 \"Qualification\",\n",
    "                \"academic details\",\n",
    "                 \"Educational details\", \n",
    "                 \"Academic information\", \n",
    "                 \"Schooling particulars\"]\n",
    "    habilidades = [\"Technical and personal skills\",\n",
    "                   \"Technical and personal competencies\",\n",
    "                   \"Technical Skills\",\n",
    "                   \"Technical and personal expertise\",\n",
    "                   \"Abilities\", \n",
    "                   \"Competencies\",\n",
    "                   \"Personality Traits\",\n",
    "                  \"Skills\"]\n",
    "    logros_premios = [\"Achievements and awards\", \n",
    "                      \"Accomplishments and honors\", \n",
    "                      \"Recognition and accolades\"]\n",
    "    \n",
    "    actividades_extracurriculares = [\"Extracurricular activities\", \n",
    "                                     \"Extra Curricular Activities\",\n",
    "                                     \"Additional activities\",\n",
    "                                     \"Extra Curricular Activitis\",\n",
    "                                     \"Extra Co-Curricutar Actibities\",\n",
    "                                     \"Non-academic involvement\"]\n",
    "    referencias = [\"References\", \n",
    "                   \"Referees\", \n",
    "                   \"Recommendations\",\n",
    "                   \"Other Information\"]\n",
    "    cv_titulos = [informacion_personal,objetivos_profesionales,experiencia_laboral,\n",
    "                  education,habilidades,logros_premios,actividades_extracurriculares,referencias]\n",
    "    cv_titulos_dict = {\n",
    "    'informacion_personal': informacion_personal,\n",
    "    'objetivos_profesionales': objetivos_profesionales,\n",
    "    'experiencia_laboral': experiencia_laboral,\n",
    "    'education':education,\n",
    "    'habilidades':habilidades,\n",
    "    'logros_premios':logros_premios,\n",
    "    'actividades_extracurriculares':actividades_extracurriculares,\n",
    "    'referencias'   :referencias\n",
    "    }\n",
    "    \n",
    "    \n",
    "    bloques = []\n",
    "    cadenas_cv = []\n",
    "    cadenas_pos = []\n",
    "    pos_texto = 0\n",
    "    bloque = ''\n",
    "    cadenas_name = []\n",
    "    for cv_titulos in cv_titulos_dict.keys():\n",
    "        for find in cv_titulos_dict[cv_titulos]:\n",
    "            numero = texto.count(find.lower())\n",
    "            \n",
    "            if(numero!=0):\n",
    "                print(find)\n",
    "                print(numero)\n",
    "            if numero!=0 and numero <2:\n",
    "                \n",
    "                pos_texto = texto.find(find.lower())\n",
    "                \n",
    "                if pos_texto != -1:\n",
    "                    cadenas_cv.append(find.lower())\n",
    "                    cadenas_pos.append(pos_texto)\n",
    "                    cadenas_name.append(cv_titulos)\n",
    "    \n",
    "                    break\n",
    "    diccionario = {\n",
    "        'cadenas_name': cadenas_name,\n",
    "        'cadenas_cv': cadenas_cv,\n",
    "        'cadenas_pos': cadenas_pos,\n",
    "    }\n",
    "    \n",
    "    json_data = {}\n",
    "\n",
    "    diccionario_ordenado = dict(sorted(zip( diccionario['cadenas_name'],diccionario['cadenas_pos']),key=lambda x: x[1]))\n",
    "    name_bloque = 'Introduccion'\n",
    "    posicion_final_text = len(texto)\n",
    "    posicion_inicial_text = 0\n",
    "    count = 0\n",
    "    \n",
    "    for key, value  in list(diccionario_ordenado.items()):        \n",
    "        json_data[name_bloque] = texto[posicion_inicial_text:value]    \n",
    "        name_bloque = key\n",
    "        posicion_inicial_text = value\n",
    "        count +=1\n",
    "    json_data[name_bloque] = texto[posicion_inicial_text:len(texto)]\n",
    "    \n",
    "    return json.dumps(json_data)\n",
    "json_str = separar_en_bloques(texto)\n",
    "\n",
    "    "
   ],
   "outputs": []
  },
  {
   "cell_type": "code",
   "execution_count": 190,
   "id": "e00242ae",
   "metadata": {},
   "source": [
    "json_data = json.loads(json_str) ## convertir el json en diccionario\n",
    "json_data.keys()"
   ],
   "outputs": []
  },
  {
   "cell_type": "code",
   "execution_count": 191,
   "id": "96235639",
   "metadata": {},
   "source": [
    "json_data['Introduccion']"
   ],
   "outputs": []
  },
  {
   "cell_type": "code",
   "execution_count": 192,
   "id": "ddde3f20",
   "metadata": {},
   "source": [
    "json_data['habilidades']"
   ],
   "outputs": []
  },
  {
   "cell_type": "code",
   "execution_count": 193,
   "id": "c9e7bb31",
   "metadata": {},
   "source": [
    "json_data['education']"
   ],
   "outputs": []
  },
  {
   "cell_type": "code",
   "execution_count": 194,
   "id": "6524e46f",
   "metadata": {},
   "source": [
    "json_data['informacion_personal']"
   ],
   "outputs": []
  },
  {
   "cell_type": "code",
   "execution_count": 195,
   "id": "a64917f4",
   "metadata": {},
   "source": [
    "json_data['experiencia_laboral']"
   ],
   "outputs": []
  },
  {
   "cell_type": "code",
   "execution_count": null,
   "id": "c16b5876",
   "metadata": {},
   "source": [],
   "outputs": []
  },
  {
   "cell_type": "code",
   "execution_count": null,
   "id": "e83f31a9-b2c4-4559-9dd6-3b17d9cdb560",
   "metadata": {},
   "source": [],
   "outputs": []
  }
 ],
 "metadata": {
  "kernelspec": {
   "display_name": "Python 3 (ipykernel)",
   "language": "python",
   "name": "python3"
  },
  "language_info": {
   "codemirror_mode": {
    "name": "ipython",
    "version": 3
   },
   "file_extension": ".py",
   "mimetype": "text/x-python",
   "name": "python",
   "nbconvert_exporter": "python",
   "pygments_lexer": "ipython3",
   "version": "3.8.10"
  }
 },
 "nbformat": 4,
 "nbformat_minor": 5
}
