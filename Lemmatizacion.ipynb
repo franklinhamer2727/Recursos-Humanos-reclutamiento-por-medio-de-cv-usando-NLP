{
 "cells": [
  {
   "cell_type": "code",
   "execution_count": null,
   "id": "e8263902",
   "metadata": {},
   "outputs": [],
   "source": [
    "!python -m spacy download es_core_news_sm -q\n",
    "!pip install spacy -q\n",
    "!pip install -U scikit-learn -q\n",
    "#python -m spacy download en_core_web_sm"
   ]
  },
  {
   "cell_type": "code",
   "execution_count": null,
   "id": "b12a0316",
   "metadata": {},
   "outputs": [],
   "source": [
    "import nltk\n",
    "import spacy\n",
    "nltk.download('wordnet')\n",
    "nltk.download('punkt')\n",
    "nlp = spacy.load(\"en_core_web_sm\")\n",
    "nlp"
   ]
  },
  {
   "cell_type": "code",
   "execution_count": null,
   "id": "9d58e670",
   "metadata": {},
   "outputs": [],
   "source": [
    "def lematizacion_txt(texto):\n",
    "    doc = nlp(texto.lower())\n",
    "    lemmas =[token.lemma_ for token in doc if token.is_alpha]\n",
    "    return ' '.join(lemmas)"
   ]
  },
  {
   "cell_type": "code",
   "execution_count": null,
   "id": "a14c01be",
   "metadata": {},
   "outputs": [],
   "source": [
    "ruta_archivo =\"/home/code/Escritorio/github_etl/TESIS 3/curriculum_vitae_data/txt/71.txt\"\n",
    "def leer_archivo(ruta_archivo):\n",
    "    with open(ruta_archivo,'r') as archivo:\n",
    "        contenido = archivo.read()\n",
    "    return contenido\n",
    "texto =leer_archivo(ruta_archivo)\n",
    "texto1 = lematizacion_txt(texto)"
   ]
  },
  {
   "cell_type": "code",
   "execution_count": null,
   "id": "411f2c7b",
   "metadata": {},
   "outputs": [],
   "source": [
    "texto1"
   ]
  }
 ],
 "metadata": {
  "kernelspec": {
   "display_name": "Python 3",
   "language": "python",
   "name": "python3"
  },
  "language_info": {
   "codemirror_mode": {
    "name": "ipython",
    "version": 3
   },
   "file_extension": ".py",
   "mimetype": "text/x-python",
   "name": "python",
   "nbconvert_exporter": "python",
   "pygments_lexer": "ipython3",
   "version": "3.8.8"
  }
 },
 "nbformat": 4,
 "nbformat_minor": 5
}
